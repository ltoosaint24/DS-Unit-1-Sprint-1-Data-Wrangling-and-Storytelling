{
  "nbformat": 4,
  "nbformat_minor": 0,
  "metadata": {
    "colab": {
      "name": "Loveline_Toussaint_LS_DS_122_Sampling_Confidence_Intervals_and_Hypothesis_Testing.ipynb",
      "provenance": [],
      "collapsed_sections": [],
      "include_colab_link": true
    },
    "kernelspec": {
      "display_name": "Python 3",
      "language": "python",
      "name": "python3"
    },
    "language_info": {
      "codemirror_mode": {
        "name": "ipython",
        "version": 3
      },
      "file_extension": ".py",
      "mimetype": "text/x-python",
      "name": "python",
      "nbconvert_exporter": "python",
      "pygments_lexer": "ipython3",
      "version": "3.7.3"
    }
  },
  "cells": [
    {
      "cell_type": "markdown",
      "metadata": {
        "id": "view-in-github",
        "colab_type": "text"
      },
      "source": [
        "<a href=\"https://colab.research.google.com/github/ltoosaint24/DS-Unit-1-Sprint-1-Data-Wrangling-and-Storytelling/blob/master/Loveline_Toussaint_LS_DS_122_Sampling_Confidence_Intervals_and_Hypothesis_Testing.ipynb\" target=\"_parent\"><img src=\"https://colab.research.google.com/assets/colab-badge.svg\" alt=\"Open In Colab\"/></a>"
      ]
    },
    {
      "cell_type": "markdown",
      "metadata": {
        "colab_type": "text",
        "id": "838Dmw1kM2LK"
      },
      "source": [
        "# Lambda School Data Science Module 122\n",
        "## Sampling, Confidence Intervals, and Hypothesis Testing"
      ]
    },
    {
      "cell_type": "markdown",
      "metadata": {
        "id": "WGKi57YypmU0",
        "colab_type": "text"
      },
      "source": [
        "## Recap: t-tests"
      ]
    },
    {
      "cell_type": "code",
      "metadata": {
        "id": "HRJZpzjEpmU3",
        "colab_type": "code",
        "colab": {}
      },
      "source": [
        "from scipy.stats import ttest_ind, ttest_1samp\n",
        "import numpy as np\n",
        "import pandas as pd\n",
        "import matplotlib.pyplot as plt"
      ],
      "execution_count": null,
      "outputs": []
    },
    {
      "cell_type": "code",
      "metadata": {
        "id": "GTn0brIkpmVD",
        "colab_type": "code",
        "colab": {},
        "outputId": "4a0fa3c7-d92e-49ce-b543-de81214fc8d5"
      },
      "source": [
        "df = pd.read_csv('https://raw.githubusercontent.com/ryanleeallred/datasets/master/adult.csv', na_values=\" ?\")\n",
        "print(df.shape)\n",
        "df.head()"
      ],
      "execution_count": null,
      "outputs": [
        {
          "output_type": "stream",
          "text": [
            "(32561, 15)\n"
          ],
          "name": "stdout"
        },
        {
          "output_type": "execute_result",
          "data": {
            "text/html": [
              "<div>\n",
              "<style scoped>\n",
              "    .dataframe tbody tr th:only-of-type {\n",
              "        vertical-align: middle;\n",
              "    }\n",
              "\n",
              "    .dataframe tbody tr th {\n",
              "        vertical-align: top;\n",
              "    }\n",
              "\n",
              "    .dataframe thead th {\n",
              "        text-align: right;\n",
              "    }\n",
              "</style>\n",
              "<table border=\"1\" class=\"dataframe\">\n",
              "  <thead>\n",
              "    <tr style=\"text-align: right;\">\n",
              "      <th></th>\n",
              "      <th>age</th>\n",
              "      <th>workclass</th>\n",
              "      <th>fnlwgt</th>\n",
              "      <th>education</th>\n",
              "      <th>education-num</th>\n",
              "      <th>marital-status</th>\n",
              "      <th>occupation</th>\n",
              "      <th>relationship</th>\n",
              "      <th>race</th>\n",
              "      <th>sex</th>\n",
              "      <th>capital-gain</th>\n",
              "      <th>capital-loss</th>\n",
              "      <th>hours-per-week</th>\n",
              "      <th>country</th>\n",
              "      <th>salary</th>\n",
              "    </tr>\n",
              "  </thead>\n",
              "  <tbody>\n",
              "    <tr>\n",
              "      <th>0</th>\n",
              "      <td>39</td>\n",
              "      <td>State-gov</td>\n",
              "      <td>77516</td>\n",
              "      <td>Bachelors</td>\n",
              "      <td>13</td>\n",
              "      <td>Never-married</td>\n",
              "      <td>Adm-clerical</td>\n",
              "      <td>Not-in-family</td>\n",
              "      <td>White</td>\n",
              "      <td>Male</td>\n",
              "      <td>2174</td>\n",
              "      <td>0</td>\n",
              "      <td>40</td>\n",
              "      <td>United-States</td>\n",
              "      <td>&lt;=50K</td>\n",
              "    </tr>\n",
              "    <tr>\n",
              "      <th>1</th>\n",
              "      <td>50</td>\n",
              "      <td>Self-emp-not-inc</td>\n",
              "      <td>83311</td>\n",
              "      <td>Bachelors</td>\n",
              "      <td>13</td>\n",
              "      <td>Married-civ-spouse</td>\n",
              "      <td>Exec-managerial</td>\n",
              "      <td>Husband</td>\n",
              "      <td>White</td>\n",
              "      <td>Male</td>\n",
              "      <td>0</td>\n",
              "      <td>0</td>\n",
              "      <td>13</td>\n",
              "      <td>United-States</td>\n",
              "      <td>&lt;=50K</td>\n",
              "    </tr>\n",
              "    <tr>\n",
              "      <th>2</th>\n",
              "      <td>38</td>\n",
              "      <td>Private</td>\n",
              "      <td>215646</td>\n",
              "      <td>HS-grad</td>\n",
              "      <td>9</td>\n",
              "      <td>Divorced</td>\n",
              "      <td>Handlers-cleaners</td>\n",
              "      <td>Not-in-family</td>\n",
              "      <td>White</td>\n",
              "      <td>Male</td>\n",
              "      <td>0</td>\n",
              "      <td>0</td>\n",
              "      <td>40</td>\n",
              "      <td>United-States</td>\n",
              "      <td>&lt;=50K</td>\n",
              "    </tr>\n",
              "    <tr>\n",
              "      <th>3</th>\n",
              "      <td>53</td>\n",
              "      <td>Private</td>\n",
              "      <td>234721</td>\n",
              "      <td>11th</td>\n",
              "      <td>7</td>\n",
              "      <td>Married-civ-spouse</td>\n",
              "      <td>Handlers-cleaners</td>\n",
              "      <td>Husband</td>\n",
              "      <td>Black</td>\n",
              "      <td>Male</td>\n",
              "      <td>0</td>\n",
              "      <td>0</td>\n",
              "      <td>40</td>\n",
              "      <td>United-States</td>\n",
              "      <td>&lt;=50K</td>\n",
              "    </tr>\n",
              "    <tr>\n",
              "      <th>4</th>\n",
              "      <td>28</td>\n",
              "      <td>Private</td>\n",
              "      <td>338409</td>\n",
              "      <td>Bachelors</td>\n",
              "      <td>13</td>\n",
              "      <td>Married-civ-spouse</td>\n",
              "      <td>Prof-specialty</td>\n",
              "      <td>Wife</td>\n",
              "      <td>Black</td>\n",
              "      <td>Female</td>\n",
              "      <td>0</td>\n",
              "      <td>0</td>\n",
              "      <td>40</td>\n",
              "      <td>Cuba</td>\n",
              "      <td>&lt;=50K</td>\n",
              "    </tr>\n",
              "  </tbody>\n",
              "</table>\n",
              "</div>"
            ],
            "text/plain": [
              "   age          workclass  fnlwgt   education  education-num  \\\n",
              "0   39          State-gov   77516   Bachelors             13   \n",
              "1   50   Self-emp-not-inc   83311   Bachelors             13   \n",
              "2   38            Private  215646     HS-grad              9   \n",
              "3   53            Private  234721        11th              7   \n",
              "4   28            Private  338409   Bachelors             13   \n",
              "\n",
              "        marital-status          occupation    relationship    race      sex  \\\n",
              "0        Never-married        Adm-clerical   Not-in-family   White     Male   \n",
              "1   Married-civ-spouse     Exec-managerial         Husband   White     Male   \n",
              "2             Divorced   Handlers-cleaners   Not-in-family   White     Male   \n",
              "3   Married-civ-spouse   Handlers-cleaners         Husband   Black     Male   \n",
              "4   Married-civ-spouse      Prof-specialty            Wife   Black   Female   \n",
              "\n",
              "   capital-gain  capital-loss  hours-per-week         country  salary  \n",
              "0          2174             0              40   United-States   <=50K  \n",
              "1             0             0              13   United-States   <=50K  \n",
              "2             0             0              40   United-States   <=50K  \n",
              "3             0             0              40   United-States   <=50K  \n",
              "4             0             0              40            Cuba   <=50K  "
            ]
          },
          "metadata": {
            "tags": []
          },
          "execution_count": 2
        }
      ]
    },
    {
      "cell_type": "code",
      "metadata": {
        "id": "-UCmPcCnpmVQ",
        "colab_type": "code",
        "colab": {},
        "outputId": "323c9c58-9883-498a-dd15-0a4db5f8f340"
      },
      "source": [
        "# Remove null values as these will throw off the ttest\n",
        "df.isnull().sum()"
      ],
      "execution_count": null,
      "outputs": [
        {
          "output_type": "execute_result",
          "data": {
            "text/plain": [
              "age                  0\n",
              "workclass         1836\n",
              "fnlwgt               0\n",
              "education            0\n",
              "education-num        0\n",
              "marital-status       0\n",
              "occupation        1843\n",
              "relationship         0\n",
              "race                 0\n",
              "sex                  0\n",
              "capital-gain         0\n",
              "capital-loss         0\n",
              "hours-per-week       0\n",
              "country            583\n",
              "salary               0\n",
              "dtype: int64"
            ]
          },
          "metadata": {
            "tags": []
          },
          "execution_count": 3
        }
      ]
    },
    {
      "cell_type": "code",
      "metadata": {
        "id": "E3aLVxYYpmVZ",
        "colab_type": "code",
        "colab": {},
        "outputId": "701cdf9c-16a8-464d-d6c2-3831dd21ec68"
      },
      "source": [
        "# salary values\n",
        "df['salary'].value_counts()\n",
        "df['salary'].value_counts().index[0]"
      ],
      "execution_count": null,
      "outputs": [
        {
          "output_type": "execute_result",
          "data": {
            "text/plain": [
              "' <=50K'"
            ]
          },
          "metadata": {
            "tags": []
          },
          "execution_count": 4
        }
      ]
    },
    {
      "cell_type": "code",
      "metadata": {
        "id": "GWvV2oBlpmV1",
        "colab_type": "code",
        "colab": {},
        "outputId": "e9f8ab97-2fe2-47ed-86c1-6a17403469bc"
      },
      "source": [
        "## what is the average age?\n",
        "popmean=df['age'].mean()\n",
        "print(popmean)"
      ],
      "execution_count": null,
      "outputs": [
        {
          "output_type": "stream",
          "text": [
            "38.58164675532078\n"
          ],
          "name": "stdout"
        }
      ]
    },
    {
      "cell_type": "code",
      "metadata": {
        "id": "aA6xYUn7pmWE",
        "colab_type": "code",
        "colab": {},
        "outputId": "d43e3080-92e1-4d30-ec46-c1bd9d150fbc"
      },
      "source": [
        "# restrict to high earners\n",
        "hibucks = df[df['salary']==' >50K']\n",
        "\n",
        "hibucks.head()"
      ],
      "execution_count": null,
      "outputs": [
        {
          "output_type": "execute_result",
          "data": {
            "text/html": [
              "<div>\n",
              "<style scoped>\n",
              "    .dataframe tbody tr th:only-of-type {\n",
              "        vertical-align: middle;\n",
              "    }\n",
              "\n",
              "    .dataframe tbody tr th {\n",
              "        vertical-align: top;\n",
              "    }\n",
              "\n",
              "    .dataframe thead th {\n",
              "        text-align: right;\n",
              "    }\n",
              "</style>\n",
              "<table border=\"1\" class=\"dataframe\">\n",
              "  <thead>\n",
              "    <tr style=\"text-align: right;\">\n",
              "      <th></th>\n",
              "      <th>age</th>\n",
              "      <th>workclass</th>\n",
              "      <th>fnlwgt</th>\n",
              "      <th>education</th>\n",
              "      <th>education-num</th>\n",
              "      <th>marital-status</th>\n",
              "      <th>occupation</th>\n",
              "      <th>relationship</th>\n",
              "      <th>race</th>\n",
              "      <th>sex</th>\n",
              "      <th>capital-gain</th>\n",
              "      <th>capital-loss</th>\n",
              "      <th>hours-per-week</th>\n",
              "      <th>country</th>\n",
              "      <th>salary</th>\n",
              "    </tr>\n",
              "  </thead>\n",
              "  <tbody>\n",
              "    <tr>\n",
              "      <th>7</th>\n",
              "      <td>52</td>\n",
              "      <td>Self-emp-not-inc</td>\n",
              "      <td>209642</td>\n",
              "      <td>HS-grad</td>\n",
              "      <td>9</td>\n",
              "      <td>Married-civ-spouse</td>\n",
              "      <td>Exec-managerial</td>\n",
              "      <td>Husband</td>\n",
              "      <td>White</td>\n",
              "      <td>Male</td>\n",
              "      <td>0</td>\n",
              "      <td>0</td>\n",
              "      <td>45</td>\n",
              "      <td>United-States</td>\n",
              "      <td>&gt;50K</td>\n",
              "    </tr>\n",
              "    <tr>\n",
              "      <th>8</th>\n",
              "      <td>31</td>\n",
              "      <td>Private</td>\n",
              "      <td>45781</td>\n",
              "      <td>Masters</td>\n",
              "      <td>14</td>\n",
              "      <td>Never-married</td>\n",
              "      <td>Prof-specialty</td>\n",
              "      <td>Not-in-family</td>\n",
              "      <td>White</td>\n",
              "      <td>Female</td>\n",
              "      <td>14084</td>\n",
              "      <td>0</td>\n",
              "      <td>50</td>\n",
              "      <td>United-States</td>\n",
              "      <td>&gt;50K</td>\n",
              "    </tr>\n",
              "    <tr>\n",
              "      <th>9</th>\n",
              "      <td>42</td>\n",
              "      <td>Private</td>\n",
              "      <td>159449</td>\n",
              "      <td>Bachelors</td>\n",
              "      <td>13</td>\n",
              "      <td>Married-civ-spouse</td>\n",
              "      <td>Exec-managerial</td>\n",
              "      <td>Husband</td>\n",
              "      <td>White</td>\n",
              "      <td>Male</td>\n",
              "      <td>5178</td>\n",
              "      <td>0</td>\n",
              "      <td>40</td>\n",
              "      <td>United-States</td>\n",
              "      <td>&gt;50K</td>\n",
              "    </tr>\n",
              "    <tr>\n",
              "      <th>10</th>\n",
              "      <td>37</td>\n",
              "      <td>Private</td>\n",
              "      <td>280464</td>\n",
              "      <td>Some-college</td>\n",
              "      <td>10</td>\n",
              "      <td>Married-civ-spouse</td>\n",
              "      <td>Exec-managerial</td>\n",
              "      <td>Husband</td>\n",
              "      <td>Black</td>\n",
              "      <td>Male</td>\n",
              "      <td>0</td>\n",
              "      <td>0</td>\n",
              "      <td>80</td>\n",
              "      <td>United-States</td>\n",
              "      <td>&gt;50K</td>\n",
              "    </tr>\n",
              "    <tr>\n",
              "      <th>11</th>\n",
              "      <td>30</td>\n",
              "      <td>State-gov</td>\n",
              "      <td>141297</td>\n",
              "      <td>Bachelors</td>\n",
              "      <td>13</td>\n",
              "      <td>Married-civ-spouse</td>\n",
              "      <td>Prof-specialty</td>\n",
              "      <td>Husband</td>\n",
              "      <td>Asian-Pac-Islander</td>\n",
              "      <td>Male</td>\n",
              "      <td>0</td>\n",
              "      <td>0</td>\n",
              "      <td>40</td>\n",
              "      <td>India</td>\n",
              "      <td>&gt;50K</td>\n",
              "    </tr>\n",
              "  </tbody>\n",
              "</table>\n",
              "</div>"
            ],
            "text/plain": [
              "    age          workclass  fnlwgt      education  education-num  \\\n",
              "7    52   Self-emp-not-inc  209642        HS-grad              9   \n",
              "8    31            Private   45781        Masters             14   \n",
              "9    42            Private  159449      Bachelors             13   \n",
              "10   37            Private  280464   Some-college             10   \n",
              "11   30          State-gov  141297      Bachelors             13   \n",
              "\n",
              "         marital-status        occupation    relationship  \\\n",
              "7    Married-civ-spouse   Exec-managerial         Husband   \n",
              "8         Never-married    Prof-specialty   Not-in-family   \n",
              "9    Married-civ-spouse   Exec-managerial         Husband   \n",
              "10   Married-civ-spouse   Exec-managerial         Husband   \n",
              "11   Married-civ-spouse    Prof-specialty         Husband   \n",
              "\n",
              "                   race      sex  capital-gain  capital-loss  hours-per-week  \\\n",
              "7                 White     Male             0             0              45   \n",
              "8                 White   Female         14084             0              50   \n",
              "9                 White     Male          5178             0              40   \n",
              "10                Black     Male             0             0              80   \n",
              "11   Asian-Pac-Islander     Male             0             0              40   \n",
              "\n",
              "           country salary  \n",
              "7    United-States   >50K  \n",
              "8    United-States   >50K  \n",
              "9    United-States   >50K  \n",
              "10   United-States   >50K  \n",
              "11           India   >50K  "
            ]
          },
          "metadata": {
            "tags": []
          },
          "execution_count": 6
        }
      ]
    },
    {
      "cell_type": "code",
      "metadata": {
        "id": "pUAhdkKupmWN",
        "colab_type": "code",
        "colab": {},
        "outputId": "76d9d0a9-8a9e-41d6-aba5-f4be0bd4f6e2"
      },
      "source": [
        "# is age continuous?\n",
        "df['age'].describe()"
      ],
      "execution_count": null,
      "outputs": [
        {
          "output_type": "execute_result",
          "data": {
            "text/plain": [
              "count    32561.000000\n",
              "mean        38.581647\n",
              "std         13.640433\n",
              "min         17.000000\n",
              "25%         28.000000\n",
              "50%         37.000000\n",
              "75%         48.000000\n",
              "max         90.000000\n",
              "Name: age, dtype: float64"
            ]
          },
          "metadata": {
            "tags": []
          },
          "execution_count": 7
        }
      ]
    },
    {
      "cell_type": "code",
      "metadata": {
        "id": "Ay_yPu03pmWa",
        "colab_type": "code",
        "colab": {},
        "outputId": "5e0fe1f8-146b-47b7-a3a9-df3504560bff"
      },
      "source": [
        "# is the average age of high earners above the population average? yes.\n",
        "ttest_1samp(hibucks['age'], popmean, nan_policy='omit')"
      ],
      "execution_count": null,
      "outputs": [
        {
          "output_type": "execute_result",
          "data": {
            "text/plain": [
              "Ttest_1sampResult(statistic=47.71498812387393, pvalue=0.0)"
            ]
          },
          "metadata": {
            "tags": []
          },
          "execution_count": 8
        }
      ]
    },
    {
      "cell_type": "code",
      "metadata": {
        "id": "7P3PLN-kpmWm",
        "colab_type": "code",
        "colab": {},
        "outputId": "b8600024-b881-4998-b71b-451fbbc8b377"
      },
      "source": [
        "# is there a sig difference between the age of high and low earners? yes.\n",
        "lobucks = df[df['salary']==' <=50K']\n",
        "ttest_ind(hibucks['age'], lobucks['age'], nan_policy='omit')"
      ],
      "execution_count": null,
      "outputs": [
        {
          "output_type": "execute_result",
          "data": {
            "text/plain": [
              "Ttest_indResult(statistic=43.436244240451096, pvalue=0.0)"
            ]
          },
          "metadata": {
            "tags": []
          },
          "execution_count": 9
        }
      ]
    },
    {
      "cell_type": "code",
      "metadata": {
        "id": "_edEJT16pmW1",
        "colab_type": "code",
        "colab": {},
        "outputId": "a1a81aaa-3aee-44e4-8c69-87cda8895aff"
      },
      "source": [
        "# subset male and female low earners\n",
        "lobucks_male = df[(df['salary']==' <=50K') & (df['sex']==' Male')]\n",
        "lobucks_female = df[(df['salary']==' <=50K') & (df['sex']==' Female')]\n",
        "df['sex'].value_counts().index[0] # note the trailing space."
      ],
      "execution_count": null,
      "outputs": [
        {
          "output_type": "execute_result",
          "data": {
            "text/plain": [
              "' Male'"
            ]
          },
          "metadata": {
            "tags": []
          },
          "execution_count": 10
        }
      ]
    },
    {
      "cell_type": "code",
      "metadata": {
        "id": "UnQLu2yTpmW8",
        "colab_type": "code",
        "colab": {},
        "outputId": "31b4fb9f-92f3-440b-a1d1-c626633ac3fb"
      },
      "source": [
        "# is there a sig difference between the male and female low earners? yes.\n",
        "ttest_ind(lobucks_female['age'], lobucks_male['age'], nan_policy='omit')"
      ],
      "execution_count": null,
      "outputs": [
        {
          "output_type": "execute_result",
          "data": {
            "text/plain": [
              "Ttest_indResult(statistic=-5.118769813761817, pvalue=3.098380651743999e-07)"
            ]
          },
          "metadata": {
            "tags": []
          },
          "execution_count": 11
        }
      ]
    },
    {
      "cell_type": "markdown",
      "metadata": {
        "colab_type": "text",
        "id": "dbcPKIo5M6Ny"
      },
      "source": [
        "## Prepare - examine other available hypothesis tests\n",
        "\n",
        "If you had to pick a single hypothesis test in your toolbox, t-test would probably be the best choice - but the good news is you don't have to pick just one! Here's some of the others to be aware of:"
      ]
    },
    {
      "cell_type": "code",
      "metadata": {
        "id": "HsvD9Cv2pmXH",
        "colab_type": "code",
        "colab": {},
        "outputId": "09c55ac1-dbdf-47f7-ec44-b5c986503b54"
      },
      "source": [
        "# consider a crosstab. Are men and women equally distributed by salary?\n",
        "gap=pd.crosstab(df['sex'], df['salary'])\n",
        "gap"
      ],
      "execution_count": null,
      "outputs": [
        {
          "output_type": "execute_result",
          "data": {
            "text/html": [
              "<div>\n",
              "<style scoped>\n",
              "    .dataframe tbody tr th:only-of-type {\n",
              "        vertical-align: middle;\n",
              "    }\n",
              "\n",
              "    .dataframe tbody tr th {\n",
              "        vertical-align: top;\n",
              "    }\n",
              "\n",
              "    .dataframe thead th {\n",
              "        text-align: right;\n",
              "    }\n",
              "</style>\n",
              "<table border=\"1\" class=\"dataframe\">\n",
              "  <thead>\n",
              "    <tr style=\"text-align: right;\">\n",
              "      <th>salary</th>\n",
              "      <th>&lt;=50K</th>\n",
              "      <th>&gt;50K</th>\n",
              "    </tr>\n",
              "    <tr>\n",
              "      <th>sex</th>\n",
              "      <th></th>\n",
              "      <th></th>\n",
              "    </tr>\n",
              "  </thead>\n",
              "  <tbody>\n",
              "    <tr>\n",
              "      <th>Female</th>\n",
              "      <td>9592</td>\n",
              "      <td>1179</td>\n",
              "    </tr>\n",
              "    <tr>\n",
              "      <th>Male</th>\n",
              "      <td>15128</td>\n",
              "      <td>6662</td>\n",
              "    </tr>\n",
              "  </tbody>\n",
              "</table>\n",
              "</div>"
            ],
            "text/plain": [
              "salary    <=50K   >50K\n",
              "sex                   \n",
              " Female    9592   1179\n",
              " Male     15128   6662"
            ]
          },
          "metadata": {
            "tags": []
          },
          "execution_count": 12
        }
      ]
    },
    {
      "cell_type": "code",
      "metadata": {
        "id": "LfLBP25LpmXP",
        "colab_type": "code",
        "colab": {},
        "outputId": "65cf5ffc-6342-40fc-a733-c2e836e0176d"
      },
      "source": [
        "# can we test that?\n",
        "from scipy.stats import chisquare  # One-way chi square test\n",
        "chisquare(gap, axis=None)"
      ],
      "execution_count": null,
      "outputs": [
        {
          "output_type": "execute_result",
          "data": {
            "text/plain": [
              "Power_divergenceResult(statistic=12478.787844353674, pvalue=0.0)"
            ]
          },
          "metadata": {
            "tags": []
          },
          "execution_count": 13
        }
      ]
    },
    {
      "cell_type": "code",
      "metadata": {
        "colab_type": "code",
        "id": "tlBel8j9M6tB",
        "colab": {
          "base_uri": "https://localhost:8080/",
          "height": 215
        },
        "outputId": "811623c9-885a-42e3-c3f7-159ced2ce330"
      },
      "source": [
        "from scipy.stats import chisquare  # One-way chi square test\n",
        "\n",
        "# Chi square can take any crosstab/table and test the independence of rows/cols\n",
        "# The null hypothesis is that the rows/cols are independent -> low chi square\n",
        "# The alternative is that there is a dependence -> high chi square\n",
        "# Be aware! Chi square does *not* tell you direction/causation\n",
        "\n",
        "ind_obs = np.array([[1, 1], [2, 2]]).T\n",
        "print(ind_obs)\n",
        "print(chisquare(ind_obs, axis=None))"
      ],
      "execution_count": null,
      "outputs": [
        {
          "output_type": "stream",
          "text": [
            "[[1 2]\n",
            " [1 2]]\n",
            "Power_divergenceResult(statistic=0.6666666666666666, pvalue=0.8810148425137847)\n"
          ],
          "name": "stdout"
        }
      ]
    },
    {
      "cell_type": "code",
      "metadata": {
        "id": "z0kaKwqMpmXi",
        "colab_type": "code",
        "colab": {},
        "outputId": "133aecd7-bcb5-4be3-b5e6-58329a1ff402"
      },
      "source": [
        "dep_obs = np.array([[16, 18, 16, 14, 12, 12], [32, 24, 16, 28, 20, 24]]).T\n",
        "print(dep_obs)\n",
        "print(chisquare(dep_obs, axis=None))"
      ],
      "execution_count": null,
      "outputs": [
        {
          "output_type": "stream",
          "text": [
            "[[16 32]\n",
            " [18 24]\n",
            " [16 16]\n",
            " [14 28]\n",
            " [12 20]\n",
            " [12 24]]\n",
            "Power_divergenceResult(statistic=23.31034482758621, pvalue=0.015975692534127565)\n"
          ],
          "name": "stdout"
        }
      ]
    },
    {
      "cell_type": "code",
      "metadata": {
        "id": "jXjKIY_hpmXq",
        "colab_type": "code",
        "colab": {},
        "outputId": "4244c907-6f34-4221-fbfc-bb1c46746b17"
      },
      "source": [
        "# Is a distribution normal? This is a poisson distribution\n",
        "df['age'].plot(kind='hist', bins=20);"
      ],
      "execution_count": null,
      "outputs": [
        {
          "output_type": "display_data",
          "data": {
            "image/png": "[encoded data removed]",
            "text/plain": [
              "<Figure size 432x288 with 1 Axes>"
            ]
          },
          "metadata": {
            "tags": [],
            "needs_background": "light"
          }
        }
      ]
    },
    {
      "cell_type": "code",
      "metadata": {
        "id": "Auyz6EOgpmX2",
        "colab_type": "code",
        "colab": {},
        "outputId": "fef768c1-a367-48d2-91fc-99b50b532f74"
      },
      "source": [
        "# Is it normal?\n",
        "from scipy.stats import normaltest\n",
        "normaltest(df['age'])"
      ],
      "execution_count": null,
      "outputs": [
        {
          "output_type": "execute_result",
          "data": {
            "text/plain": [
              "NormaltestResult(statistic=1526.0108462557214, pvalue=0.0)"
            ]
          },
          "metadata": {
            "tags": []
          },
          "execution_count": 17
        }
      ]
    },
    {
      "cell_type": "code",
      "metadata": {
        "id": "t1w09IOCpmYA",
        "colab_type": "code",
        "colab": {},
        "outputId": "0e043449-edd3-479d-c2f8-93c4f2b86e8c"
      },
      "source": [
        "sample = np.random.normal(5, 25, 1000) # mean, std dev, number of obs\n",
        "print(normaltest(sample))  # Pretty clearly  normal"
      ],
      "execution_count": null,
      "outputs": [
        {
          "output_type": "stream",
          "text": [
            "NormaltestResult(statistic=0.5554833982467654, pvalue=0.7574924572125407)\n"
          ],
          "name": "stdout"
        }
      ]
    },
    {
      "cell_type": "code",
      "metadata": {
        "id": "kZUtNLyopmYO",
        "colab_type": "code",
        "colab": {},
        "outputId": "2ee6eae3-8422-4128-d711-496358191413"
      },
      "source": [
        "# display that!\n",
        "count, bins, ignored = plt.hist(sample, 14, density=True)\n",
        "plt.show()"
      ],
      "execution_count": null,
      "outputs": [
        {
          "output_type": "display_data",
          "data": {
            "image/png": "[encoded data removed]",
            "text/plain": [
              "<Figure size 432x288 with 1 Axes>"
            ]
          },
          "metadata": {
            "tags": [],
            "needs_background": "light"
          }
        }
      ]
    },
    {
      "cell_type": "code",
      "metadata": {
        "id": "cpGjNRIvpmYW",
        "colab_type": "code",
        "colab": {},
        "outputId": "8d562f15-6b7f-462f-a13b-cf84595fab52"
      },
      "source": [
        "# Poisson models arrival times and is related to the binomial (coinflip)\n",
        "sample = np.random.poisson(5, 1000)\n",
        "print(normaltest(sample))  # Pretty clearly not normal"
      ],
      "execution_count": null,
      "outputs": [
        {
          "output_type": "stream",
          "text": [
            "NormaltestResult(statistic=30.357489379997855, pvalue=2.5583204295271426e-07)\n"
          ],
          "name": "stdout"
        }
      ]
    },
    {
      "cell_type": "code",
      "metadata": {
        "id": "OABv3VZIpmYm",
        "colab_type": "code",
        "colab": {},
        "outputId": "defb9939-b8b8-4e16-9251-30e88f8347cb"
      },
      "source": [
        "# display that!\n",
        "count, bins, ignored = plt.hist(sample, 14, density=True)\n",
        "plt.show()"
      ],
      "execution_count": null,
      "outputs": [
        {
          "output_type": "display_data",
          "data": {
            "image/png": "[encoded data removed]",
            "text/plain": [
              "<Figure size 432x288 with 1 Axes>"
            ]
          },
          "metadata": {
            "tags": [],
            "needs_background": "light"
          }
        }
      ]
    },
    {
      "cell_type": "markdown",
      "metadata": {
        "colab_type": "text",
        "id": "7pT3IP36Rh0b"
      },
      "source": [
        "And there's many more! `scipy.stats` is fairly comprehensive, though there are even more available if you delve into the extended world of statistics packages. As tests get increasingly obscure and specialized, the importance of knowing them by heart becomes small - but being able to look them up and figure them out when they *are* relevant is still important."
      ]
    },
    {
      "cell_type": "markdown",
      "metadata": {
        "colab_type": "text",
        "id": "bvvPV-RJN2vA"
      },
      "source": [
        "## Central Limit Theorem\n",
        "\n"
      ]
    },
    {
      "cell_type": "code",
      "metadata": {
        "id": "_qc17d1qpmYu",
        "colab_type": "code",
        "colab": {},
        "outputId": "bd6ab627-db0d-4329-9d1e-1b0c1ce23e11"
      },
      "source": [
        "# Flip a coin.\n",
        "np.random.binomial(n=1, p=.5)"
      ],
      "execution_count": null,
      "outputs": [
        {
          "output_type": "execute_result",
          "data": {
            "text/plain": [
              "1"
            ]
          },
          "metadata": {
            "tags": []
          },
          "execution_count": 22
        }
      ]
    },
    {
      "cell_type": "code",
      "metadata": {
        "id": "4ugDFvmupmY1",
        "colab_type": "code",
        "colab": {},
        "outputId": "05cbbda4-80f7-4689-a583-4af04d404988"
      },
      "source": [
        "# Let me flip a coin twelve times.\n",
        "coinflips = np.random.binomial(n=1, p=.5, size=12)\n",
        "coinflips"
      ],
      "execution_count": null,
      "outputs": [
        {
          "output_type": "execute_result",
          "data": {
            "text/plain": [
              "array([0, 1, 1, 1, 0, 1, 0, 0, 1, 0, 1, 0])"
            ]
          },
          "metadata": {
            "tags": []
          },
          "execution_count": 23
        }
      ]
    },
    {
      "cell_type": "code",
      "metadata": {
        "id": "vDM_Di-zpmY6",
        "colab_type": "code",
        "colab": {},
        "outputId": "c91ca29f-d8a6-45cc-9ad2-33d51bfa8753"
      },
      "source": [
        "# show that.\n",
        "plt.hist(coinflips);"
      ],
      "execution_count": null,
      "outputs": [
        {
          "output_type": "display_data",
          "data": {
            "image/png": "[encoded data removed]",
            "text/plain": [
              "<Figure size 432x288 with 1 Axes>"
            ]
          },
          "metadata": {
            "tags": [],
            "needs_background": "light"
          }
        }
      ]
    },
    {
      "cell_type": "code",
      "metadata": {
        "id": "MXDtXMzspmZD",
        "colab_type": "code",
        "colab": {},
        "outputId": "a78b3ed4-a560-42cd-d24d-41aa2dadb8e8"
      },
      "source": [
        "# what is the mean of this sample of coinflips?\n",
        "coinflips.mean()"
      ],
      "execution_count": null,
      "outputs": [
        {
          "output_type": "execute_result",
          "data": {
            "text/plain": [
              "0.5"
            ]
          },
          "metadata": {
            "tags": []
          },
          "execution_count": 25
        }
      ]
    },
    {
      "cell_type": "code",
      "metadata": {
        "id": "WIDrSD4vpmZJ",
        "colab_type": "code",
        "colab": {},
        "outputId": "eb16fbea-4b44-495a-c233-cbffd581a453"
      },
      "source": [
        "# what if I do it again?\n",
        "coinflips = np.random.binomial(n=1, p=.5, size=12)\n",
        "coinflips"
      ],
      "execution_count": null,
      "outputs": [
        {
          "output_type": "execute_result",
          "data": {
            "text/plain": [
              "array([1, 1, 1, 0, 1, 0, 1, 1, 0, 0, 0, 0])"
            ]
          },
          "metadata": {
            "tags": []
          },
          "execution_count": 26
        }
      ]
    },
    {
      "cell_type": "code",
      "metadata": {
        "id": "-ZuB90jvpmZc",
        "colab_type": "code",
        "colab": {},
        "outputId": "6d2a5373-4db5-4c94-db09-3254310ae8e2"
      },
      "source": [
        "# and the mean?\n",
        "coinflips.mean()"
      ],
      "execution_count": null,
      "outputs": [
        {
          "output_type": "execute_result",
          "data": {
            "text/plain": [
              "0.5"
            ]
          },
          "metadata": {
            "tags": []
          },
          "execution_count": 27
        }
      ]
    },
    {
      "cell_type": "code",
      "metadata": {
        "id": "lJJGKXK5pmZi",
        "colab_type": "code",
        "colab": {},
        "outputId": "8210a58f-dc01-428d-b2e7-796480e2d3b0"
      },
      "source": [
        "# why are these means different? shouldn't it be the same at .5 for a fair coin?\n",
        "coinflips = np.random.binomial(n=1, p=.5, size=1000)\n",
        "coinflips.mean()"
      ],
      "execution_count": null,
      "outputs": [
        {
          "output_type": "execute_result",
          "data": {
            "text/plain": [
              "0.475"
            ]
          },
          "metadata": {
            "tags": []
          },
          "execution_count": 28
        }
      ]
    },
    {
      "cell_type": "markdown",
      "metadata": {
        "id": "pQLbfVJEpmZp",
        "colab_type": "text"
      },
      "source": [
        "**each of these 'samples' is an estimate of the distribution.** . \n",
        "https://www.youtube.com/watch?v=Kq7e6cj2nDw"
      ]
    },
    {
      "cell_type": "code",
      "metadata": {
        "colab_type": "code",
        "id": "FBLoOF8qOJeJ",
        "colab": {
          "base_uri": "https://localhost:8080/",
          "height": 72
        },
        "outputId": "0a4e7e48-ef94-497b-b119-cd27a6660167"
      },
      "source": [
        "# take 3000 samples of size 12, and make a list of their means.\n",
        "\n",
        "sample_means = []\n",
        "for x in range(0,3000):\n",
        "    coinflips = np.random.binomial(n=1, p=.5, size=12)\n",
        "    one_sample = coinflips\n",
        "    sample_means.append(coinflips.mean())\n",
        "\n",
        "print(len(sample_means))"
      ],
      "execution_count": null,
      "outputs": [
        {
          "output_type": "stream",
          "text": [
            "3000\n"
          ],
          "name": "stdout"
        }
      ]
    },
    {
      "cell_type": "code",
      "metadata": {
        "id": "-Nnn-NUvpmZx",
        "colab_type": "code",
        "colab": {},
        "outputId": "20a11425-41ed-476a-8f72-1a71b1351e26"
      },
      "source": [
        "# look at the first 10 means.\n",
        "print(sample_means[:10])"
      ],
      "execution_count": null,
      "outputs": [
        {
          "output_type": "stream",
          "text": [
            "[0.5, 0.9166666666666666, 0.4166666666666667, 0.6666666666666666, 0.4166666666666667, 0.5833333333333334, 0.6666666666666666, 0.3333333333333333, 0.5833333333333334, 0.3333333333333333]\n"
          ],
          "name": "stdout"
        }
      ]
    },
    {
      "cell_type": "code",
      "metadata": {
        "colab_type": "code",
        "id": "rfeA06evOT2K",
        "colab": {
          "base_uri": "https://localhost:8080/",
          "height": 198
        },
        "outputId": "62a06b54-3ecd-496c-bac5-b1874f405cd5"
      },
      "source": [
        "# make a df of one sample\n",
        "df = pd.DataFrame({'single_sample': one_sample})\n",
        "df.head()"
      ],
      "execution_count": null,
      "outputs": [
        {
          "output_type": "execute_result",
          "data": {
            "text/html": [
              "<div>\n",
              "<style scoped>\n",
              "    .dataframe tbody tr th:only-of-type {\n",
              "        vertical-align: middle;\n",
              "    }\n",
              "\n",
              "    .dataframe tbody tr th {\n",
              "        vertical-align: top;\n",
              "    }\n",
              "\n",
              "    .dataframe thead th {\n",
              "        text-align: right;\n",
              "    }\n",
              "</style>\n",
              "<table border=\"1\" class=\"dataframe\">\n",
              "  <thead>\n",
              "    <tr style=\"text-align: right;\">\n",
              "      <th></th>\n",
              "      <th>single_sample</th>\n",
              "    </tr>\n",
              "  </thead>\n",
              "  <tbody>\n",
              "    <tr>\n",
              "      <th>0</th>\n",
              "      <td>0</td>\n",
              "    </tr>\n",
              "    <tr>\n",
              "      <th>1</th>\n",
              "      <td>0</td>\n",
              "    </tr>\n",
              "    <tr>\n",
              "      <th>2</th>\n",
              "      <td>0</td>\n",
              "    </tr>\n",
              "    <tr>\n",
              "      <th>3</th>\n",
              "      <td>0</td>\n",
              "    </tr>\n",
              "    <tr>\n",
              "      <th>4</th>\n",
              "      <td>1</td>\n",
              "    </tr>\n",
              "  </tbody>\n",
              "</table>\n",
              "</div>"
            ],
            "text/plain": [
              "   single_sample\n",
              "0              0\n",
              "1              0\n",
              "2              0\n",
              "3              0\n",
              "4              1"
            ]
          },
          "metadata": {
            "tags": []
          },
          "execution_count": 31
        }
      ]
    },
    {
      "cell_type": "code",
      "metadata": {
        "colab_type": "code",
        "id": "GlMSNFX6OmBV",
        "colab": {
          "base_uri": "https://localhost:8080/",
          "height": 269
        },
        "outputId": "9122b3d0-a59f-496d-9c7b-bc2eacc489f8"
      },
      "source": [
        "# this df is clearly a binomial distribution (one and zero are the only options)\n",
        "df.single_sample.hist();"
      ],
      "execution_count": null,
      "outputs": [
        {
          "output_type": "display_data",
          "data": {
            "image/png": "[encoded data removed]",
            "text/plain": [
              "<Figure size 432x288 with 1 Axes>"
            ]
          },
          "metadata": {
            "tags": [],
            "needs_background": "light"
          }
        }
      ]
    },
    {
      "cell_type": "code",
      "metadata": {
        "colab_type": "code",
        "id": "Jie4ypgLOs5M",
        "colab": {
          "base_uri": "https://localhost:8080/",
          "height": 296
        },
        "outputId": "13e41ba1-8118-4a7b-99e2-9966565e65ee"
      },
      "source": [
        "# now plot all 3000 sample means\n",
        "ax = plt.hist(sample_means, bins=13)\n",
        "plt.title('Distribution of 3000 sample means \\n (of 12 coinflips each)');"
      ],
      "execution_count": null,
      "outputs": [
        {
          "output_type": "display_data",
          "data": {
            "image/png": "[encoded data removed]",
            "text/plain": [
              "<Figure size 432x288 with 1 Axes>"
            ]
          },
          "metadata": {
            "tags": [],
            "needs_background": "light"
          }
        }
      ]
    },
    {
      "cell_type": "code",
      "metadata": {
        "id": "ob8Nh4vBpmaq",
        "colab_type": "code",
        "colab": {},
        "outputId": "7d1a98c2-0c7d-431d-fbe6-2b4097e99c0c"
      },
      "source": [
        "# is this a normal distribution?\n",
        "normaltest(sample_means)"
      ],
      "execution_count": null,
      "outputs": [
        {
          "output_type": "execute_result",
          "data": {
            "text/plain": [
              "NormaltestResult(statistic=8.335166447951195, pvalue=0.015489649938905139)"
            ]
          },
          "metadata": {
            "tags": []
          },
          "execution_count": 34
        }
      ]
    },
    {
      "cell_type": "markdown",
      "metadata": {
        "colab_type": "text",
        "id": "LsEAjc4rOylm"
      },
      "source": [
        "What does the Central Limit Theorem State? That no matter the initial distribution of the population, the distribution of sample means taken will approximate a normal distribution as $n \\rightarrow \\infty$.\n",
        "\n",
        "This has very important implications for hypothesis testing and is precisely the reason why the t-distribution begins to approximate the normal distribution as our sample size increases. "
      ]
    },
    {
      "cell_type": "code",
      "metadata": {
        "id": "K6tN9maFpmax",
        "colab_type": "code",
        "colab": {},
        "outputId": "29b77512-f85f-426a-efc5-1e43a5bf30e3"
      },
      "source": [
        "# let's pretend each sample included 100 coin flips, not just 12.\n",
        "sample_means = []\n",
        "for x in range(0,3000):\n",
        "    coinflips = np.random.binomial(n=1, p=.5, size=100)\n",
        "    one_sample = coinflips\n",
        "    sample_means.append(coinflips.mean())\n",
        "# the higher my sample size, the closer I get to .5!\n",
        "print(len(sample_means))\n",
        "print(sample_means[:10])"
      ],
      "execution_count": null,
      "outputs": [
        {
          "output_type": "stream",
          "text": [
            "3000\n",
            "[0.49, 0.48, 0.38, 0.6, 0.5, 0.55, 0.56, 0.46, 0.54, 0.51]\n"
          ],
          "name": "stdout"
        }
      ]
    },
    {
      "cell_type": "code",
      "metadata": {
        "id": "p200r1v2pma3",
        "colab_type": "code",
        "colab": {},
        "outputId": "01254cae-8a52-48bd-d993-ec84f608d8f6"
      },
      "source": [
        "# when I plot, it gets a little taller and a little narrower!\n",
        "ax = plt.hist(sample_means, bins=13)\n",
        "plt.title('Distribution of 3000 sample means \\n (of 100 coinflips each)');"
      ],
      "execution_count": null,
      "outputs": [
        {
          "output_type": "display_data",
          "data": {
            "image/png": "[encoded data removed]",
            "text/plain": [
              "<Figure size 432x288 with 1 Axes>"
            ]
          },
          "metadata": {
            "tags": [],
            "needs_background": "light"
          }
        }
      ]
    },
    {
      "cell_type": "markdown",
      "metadata": {
        "id": "D9S4YJlIpmbB",
        "colab_type": "text"
      },
      "source": [
        "This outcome is what we call the Central Limit Theorem. No matter the distribution of my underlying data, the distribution of the estimates will be distributed normally."
      ]
    },
    {
      "cell_type": "code",
      "metadata": {
        "colab_type": "code",
        "id": "F15l-J788ApQ",
        "colab": {
          "base_uri": "https://localhost:8080/",
          "height": 72
        },
        "outputId": "afb637fe-330d-4292-a718-70587f0a1d97"
      },
      "source": [
        "# Compare sets of small and large samples\n",
        "sample_means_small = []\n",
        "sample_means_large = []\n",
        "for x in range(0,3000):\n",
        "    coinflips_small = np.random.binomial(n=1, p=.5, size=20)\n",
        "    coinflips_large = np.random.binomial(n=1, p=.5, size=100)\n",
        "    one_small_sample = coinflips_small\n",
        "    one_small_large = coinflips_large\n",
        "    sample_means_small.append(coinflips_small.mean())\n",
        "    sample_means_large.append(coinflips_large.mean())\n",
        "\n",
        "print(len(sample_means_small))\n",
        "print(sample_means_small[:10])"
      ],
      "execution_count": null,
      "outputs": [
        {
          "output_type": "stream",
          "text": [
            "3000\n",
            "[0.5, 0.5, 0.6, 0.45, 0.3, 0.65, 0.65, 0.35, 0.45, 0.6]\n"
          ],
          "name": "stdout"
        }
      ]
    },
    {
      "cell_type": "code",
      "metadata": {
        "colab_type": "code",
        "id": "JdES8jXz8kAG",
        "colab": {
          "base_uri": "https://localhost:8080/",
          "height": 269
        },
        "outputId": "7f1ca5c1-62cc-4bea-c808-12f943166c2a"
      },
      "source": [
        "# Plot that for comparison: it gets taller, narrower, and more normal.\n",
        "import seaborn as sns\n",
        "fix, ax = plt.subplots()\n",
        "for sample in [sample_means_small, sample_means_large]:\n",
        "    sns.distplot(sample)"
      ],
      "execution_count": null,
      "outputs": [
        {
          "output_type": "display_data",
          "data": {
            "image/png": "[encoded data removed]",
            "text/plain": [
              "<Figure size 432x288 with 1 Axes>"
            ]
          },
          "metadata": {
            "tags": [],
            "needs_background": "light"
          }
        }
      ]
    },
    {
      "cell_type": "markdown",
      "metadata": {
        "colab_type": "text",
        "id": "EYqo5vZZSFUr"
      },
      "source": [
        "## Confidence Interval"
      ]
    },
    {
      "cell_type": "markdown",
      "metadata": {
        "id": "YMoozDAvpmbR",
        "colab_type": "text"
      },
      "source": [
        "![source](https://www.mathsisfun.com/data/images/ci95.gif)"
      ]
    },
    {
      "cell_type": "markdown",
      "metadata": {
        "id": "OBqGMQaRpmbe",
        "colab_type": "text"
      },
      "source": [
        "With 95% confidence, the population mean is within these bounds. This is the [margin of error](https://www.monmouth.edu/polling-institute/reports/monmouthpoll_ia_111219/) we often seen in political polls."
      ]
    },
    {
      "cell_type": "markdown",
      "metadata": {
        "id": "2sxyuRcPpmbf",
        "colab_type": "text"
      },
      "source": [
        "Between the upper and lower bounds we can find 95% of the sample means."
      ]
    },
    {
      "cell_type": "markdown",
      "metadata": {
        "colab_type": "text",
        "id": "nfdQf8QYUUmw"
      },
      "source": [
        "<img src=\"https://github.com/ryanallredblog/ryanallredblog.github.io/blob/master/img/Confidence_Interval.png?raw=true\" width=400>"
      ]
    },
    {
      "cell_type": "markdown",
      "metadata": {
        "id": "kpeZN-5Tpmbh",
        "colab_type": "text"
      },
      "source": [
        "s = standard deviation of the sample  \n",
        "n = sample size  \n",
        "t = test statistic  \n",
        "X = sample mean\n",
        "  \n",
        "As sample size goes up, the standard error (i.e., the spread of our error) gets tighter."
      ]
    },
    {
      "cell_type": "code",
      "metadata": {
        "id": "szICJoejpmbu",
        "colab_type": "code",
        "colab": {}
      },
      "source": [
        "# bring in the stats module (for the t-statistic)\n",
        "import scipy.stats as stats"
      ],
      "execution_count": null,
      "outputs": []
    },
    {
      "cell_type": "code",
      "metadata": {
        "colab_type": "code",
        "id": "tBx71Kf0UjT3",
        "colab": {}
      },
      "source": [
        "def confidence_interval(data, confidence=0.95):\n",
        "    \"\"\"\n",
        "    Calculate a confidence interval around a sample mean for given data.\n",
        "    Using t-distribution and two-tailed test, default 95% confidence. \n",
        "\n",
        "    Arguments:\n",
        "    data - iterable (list or numpy array) of sample observations\n",
        "    confidence - level of confidence for the interval\n",
        "\n",
        "    Returns:\n",
        "    tuple of (mean, lower bound, upper bound)\n",
        "    \"\"\"\n",
        "    data = np.array(data)\n",
        "    mean = np.mean(data)\n",
        "    n = len(data)\n",
        "    stderr = np.std(data, ddof=1)/np.sqrt(n)\n",
        "    moe = stderr * stats.t.ppf((1 + confidence) / 2.0, n - 1) # just looking up the corresponding t-stat.\n",
        "    return (mean, mean - moe, mean + moe)"
      ],
      "execution_count": null,
      "outputs": []
    },
    {
      "cell_type": "code",
      "metadata": {
        "id": "BJH6cgsepmb_",
        "colab_type": "code",
        "colab": {},
        "outputId": "3a8fc493-24e0-48b1-cdba-3df87ea59882"
      },
      "source": [
        "# what's the conf interval for a sample of 500 coin flips?\n",
        "coinflips = np.random.binomial(n=1, p=.5, size=500)\n",
        "confidence_interval(coinflips) # mean, upper bound, lower bound."
      ],
      "execution_count": null,
      "outputs": [
        {
          "output_type": "execute_result",
          "data": {
            "text/plain": [
              "(0.492, 0.44802894592557513, 0.5359710540744249)"
            ]
          },
          "metadata": {
            "tags": []
          },
          "execution_count": 41
        }
      ]
    },
    {
      "cell_type": "code",
      "metadata": {
        "id": "GPPU8soGpmcJ",
        "colab_type": "code",
        "colab": {},
        "outputId": "602e73dc-302e-42f1-da3e-436f73d1eeb2"
      },
      "source": [
        "# try this again. It should capture the mean 95% of the time.\n",
        "coinflips = np.random.binomial(n=1, p=.5, size=500)\n",
        "confidence_interval(coinflips)"
      ],
      "execution_count": null,
      "outputs": [
        {
          "output_type": "execute_result",
          "data": {
            "text/plain": [
              "(0.508, 0.46402894592557514, 0.5519710540744249)"
            ]
          },
          "metadata": {
            "tags": []
          },
          "execution_count": 42
        }
      ]
    },
    {
      "cell_type": "markdown",
      "metadata": {
        "id": "3p0hKs4lpmcY",
        "colab_type": "text"
      },
      "source": [
        "We want the t-statistic that corresponds to the probability cut off for a given t distribution  (a distribution with a certain 'degrees of freedom').  \n",
        "`stats.t.ppf` is just looking up the corresponding t-statistic."
      ]
    },
    {
      "cell_type": "markdown",
      "metadata": {
        "id": "zhdSwadHpmcZ",
        "colab_type": "text"
      },
      "source": [
        "**Degrees of freedom**  \n",
        "degrees of freedom equals the number of \"observations\" minus the number of required relations among the observations (e.g., the number of parameter estimates). For a 1-sample t-test, one degree of freedom is spent estimating the mean, and the remaining n - 1 degrees of freedom estimate variability.\n",
        "https://blog.minitab.com/blog/statistics-and-quality-data-analysis/what-are-degrees-of-freedom-in-statistics"
      ]
    },
    {
      "cell_type": "markdown",
      "metadata": {
        "id": "ZKPyhvprpmca",
        "colab_type": "text"
      },
      "source": [
        "**Looking at stats.t.ppf**"
      ]
    },
    {
      "cell_type": "code",
      "metadata": {
        "id": "QkmhXuuSpmcd",
        "colab_type": "code",
        "colab": {},
        "outputId": "59b68df4-b0bd-430f-f28a-ac6595e98aee"
      },
      "source": [
        "# stats.t.ppf(# probability cutoff, # degrees of freedom)\n",
        "\n",
        "# 95% confidence level -> .025\n",
        "\n",
        "# 1 - confidence_level == .05 / 2 -> .025\n",
        "\n",
        "confidence_level = .95\n",
        "dof = 42-1\n",
        "\n",
        "stats.t.ppf((1 + confidence_level) / 2, dof)"
      ],
      "execution_count": null,
      "outputs": [
        {
          "output_type": "execute_result",
          "data": {
            "text/plain": [
              "2.0195409639828936"
            ]
          },
          "metadata": {
            "tags": []
          },
          "execution_count": 43
        }
      ]
    },
    {
      "cell_type": "markdown",
      "metadata": {
        "colab_type": "text",
        "id": "C4rtc8luVUAK"
      },
      "source": [
        "## Graphically Represent a Confidence Interval"
      ]
    },
    {
      "cell_type": "code",
      "metadata": {
        "id": "C4gd-N67pmcs",
        "colab_type": "code",
        "colab": {}
      },
      "source": [
        "import matplotlib.pyplot as plt\n",
        "import seaborn as sns"
      ],
      "execution_count": null,
      "outputs": []
    },
    {
      "cell_type": "code",
      "metadata": {
        "colab_type": "code",
        "id": "pz6F9_3_VmKr",
        "colab": {},
        "outputId": "d3ef31ab-09f9-4615-b16d-c5c1a57e07d2"
      },
      "source": [
        "# fake data - one samle of 42 coin flips\n",
        "coinflips_42 = np.random.binomial(n=1, p=.5, size=42)\n",
        "# kernel density estimate\n",
        "sns.kdeplot(coinflips_42)\n",
        "CI = confidence_interval(coinflips_42)\n",
        "plt.axvline(x=CI[1], color='red')\n",
        "plt.axvline(x=CI[2], color='red')\n",
        "plt.axvline(x=CI[0], color='k');"
      ],
      "execution_count": null,
      "outputs": [
        {
          "output_type": "display_data",
          "data": {
            "image/png": "[encoded data removed]",
            "text/plain": [
              "<Figure size 432x288 with 1 Axes>"
            ]
          },
          "metadata": {
            "tags": [],
            "needs_background": "light"
          }
        }
      ]
    },
    {
      "cell_type": "code",
      "metadata": {
        "id": "r6uW_6sopmc6",
        "colab_type": "code",
        "colab": {},
        "outputId": "95ce2e28-f1c0-4313-9268-176fd0fd4545"
      },
      "source": [
        "# fake data - 50 samples of 12 coin flips\n",
        "sample_means = []\n",
        "for x in range(0,50):\n",
        "    coinflips = np.random.binomial(n=1, p=.5, size=12)\n",
        "    one_sample = coinflips\n",
        "    sample_means.append(coinflips.mean())\n",
        "# kernel density estimate\n",
        "sns.kdeplot(sample_means)\n",
        "CI = confidence_interval(sample_means)\n",
        "plt.axvline(x=CI[1], color='red')\n",
        "plt.axvline(x=CI[2], color='red')\n",
        "plt.axvline(x=CI[0], color='k');"
      ],
      "execution_count": null,
      "outputs": [
        {
          "output_type": "display_data",
          "data": {
            "image/png": "[encoded data removed]",
            "text/plain": [
              "<Figure size 432x288 with 1 Axes>"
            ]
          },
          "metadata": {
            "tags": [],
            "needs_background": "light"
          }
        }
      ]
    },
    {
      "cell_type": "code",
      "metadata": {
        "id": "ryUHxM_-pmdB",
        "colab_type": "code",
        "colab": {}
      },
      "source": [
        "# now with a real dataset.\n",
        "import pandas as pd\n",
        "import scipy.stats as stats\n",
        "df = pd.read_csv('https://raw.githubusercontent.com/ryanleeallred/datasets/master/adult.csv', na_values=\" ?\")"
      ],
      "execution_count": null,
      "outputs": []
    },
    {
      "cell_type": "code",
      "metadata": {
        "id": "rLzAIfaRpmdI",
        "colab_type": "code",
        "colab": {},
        "outputId": "cac15c46-5b19-48d4-81cb-63967da50351"
      },
      "source": [
        "# what's the average age of hi earners in our sample?\n",
        "hibucks = df[df['salary']==' >50K']\n",
        "hibucks['age'].mean()"
      ],
      "execution_count": null,
      "outputs": [
        {
          "output_type": "execute_result",
          "data": {
            "text/plain": [
              "44.24984058155847"
            ]
          },
          "metadata": {
            "tags": []
          },
          "execution_count": 90
        }
      ]
    },
    {
      "cell_type": "code",
      "metadata": {
        "id": "qLA_m2nupmdP",
        "colab_type": "code",
        "colab": {},
        "outputId": "8d3a45be-79d9-4407-d65d-d15242035028"
      },
      "source": [
        "# calculate a 95% confidence interval on either side of this.\n",
        "\n",
        "conf_int=stats.t.interval(0.95, # alpha (ie, confidence level)\n",
        "                 hibucks.shape[0], # length of sample\n",
        "                 loc = hibucks['age'].mean(), # mean\n",
        "                 scale = stats.sem(hibucks['age']) # std error of the mean\n",
        "                 )\n",
        "conf_int"
      ],
      "execution_count": null,
      "outputs": [
        {
          "output_type": "execute_result",
          "data": {
            "text/plain": [
              "(44.01697515815307, 44.48270600496387)"
            ]
          },
          "metadata": {
            "tags": []
          },
          "execution_count": 92
        }
      ]
    },
    {
      "cell_type": "code",
      "metadata": {
        "id": "kdumSJhWpmdm",
        "colab_type": "code",
        "colab": {},
        "outputId": "e8af4d95-6a91-4e1e-8866-1665bf5e671c"
      },
      "source": [
        "# same thing but using formula for std error of the mean\n",
        "conf_int=stats.t.interval(0.95,\n",
        "                 hibucks.shape[0],\n",
        "                 loc = hibucks['age'].mean(),\n",
        "                 scale = (np.std(hibucks['age'], ddof = 1))/hibucks.shape[0] ** 0.5\n",
        "                 )\n",
        "conf_int"
      ],
      "execution_count": null,
      "outputs": [
        {
          "output_type": "execute_result",
          "data": {
            "text/plain": [
              "(44.01697515815307, 44.48270600496387)"
            ]
          },
          "metadata": {
            "tags": []
          },
          "execution_count": 102
        }
      ]
    },
    {
      "cell_type": "code",
      "metadata": {
        "id": "vSP4xTK3pmdr",
        "colab_type": "code",
        "colab": {},
        "outputId": "65230a78-48e5-4fc4-dcbf-a462497a82f7"
      },
      "source": [
        "# plot on graph with kernel density estimate\n",
        "sns.kdeplot(hibucks['age'])\n",
        "plt.axvline(x=conf_int[0], color='red')\n",
        "plt.axvline(x=conf_int[1], color='red')\n",
        "plt.axvline(x=hibucks['age'].mean(), color='k');"
      ],
      "execution_count": null,
      "outputs": [
        {
          "output_type": "display_data",
          "data": {
            "image/png": "[encoded data removed]",
            "text/plain": [
              "<Figure size 432x288 with 1 Axes>"
            ]
          },
          "metadata": {
            "tags": []
          }
        }
      ]
    },
    {
      "cell_type": "markdown",
      "metadata": {
        "colab_type": "text",
        "id": "_oy0uoBGeoEb"
      },
      "source": [
        "## Relationship between Confidence Intervals and T-tests\n",
        "\n",
        "Confidence Interval == Bounds of statistical significance for our t-test\n",
        "\n",
        "A sample mean that falls inside of our confidence interval will \"FAIL TO REJECT\" our null hypothesis\n",
        "\n",
        "A sample mean that falls outside of our confidence interval will \"REJECT\" our null hypothesis"
      ]
    },
    {
      "cell_type": "code",
      "metadata": {
        "colab_type": "code",
        "id": "izIyVavzfCXS",
        "colab": {}
      },
      "source": [
        "from scipy.stats import t, ttest_1samp"
      ],
      "execution_count": null,
      "outputs": []
    },
    {
      "cell_type": "markdown",
      "metadata": {
        "id": "59vycy9Xpmd-",
        "colab_type": "text"
      },
      "source": [
        "**Note that scipy has a built-in function to calculate the confidence interval**   \n",
        "t.interval"
      ]
    },
    {
      "cell_type": "code",
      "metadata": {
        "colab_type": "code",
        "id": "Y7HwdMwDfL1N",
        "colab": {
          "base_uri": "https://localhost:8080/",
          "height": 55
        },
        "outputId": "43309626-838a-4d17-8507-038e7a0f6b74"
      },
      "source": [
        "import numpy as np\n",
        "\n",
        "coinflip_means = []\n",
        "for x in range(0,100):\n",
        "    coinflips = np.random.binomial(n=1, p=.5, size=30)\n",
        "    coinflip_means.append(coinflips.mean())\n",
        "\n",
        "print(coinflip_means[:10])"
      ],
      "execution_count": null,
      "outputs": [
        {
          "output_type": "stream",
          "text": [
            "[0.4666666666666667, 0.43333333333333335, 0.4, 0.5333333333333333, 0.4666666666666667, 0.6666666666666666, 0.3, 0.5666666666666667, 0.5, 0.4666666666666667]\n"
          ],
          "name": "stdout"
        }
      ]
    },
    {
      "cell_type": "markdown",
      "metadata": {
        "id": "37LxCkNHpmeT",
        "colab_type": "text"
      },
      "source": [
        "**Rebuild the earlier function**\n",
        "but using `t.interval` instead."
      ]
    },
    {
      "cell_type": "code",
      "metadata": {
        "colab_type": "code",
        "id": "nQDo-ZXlfOvR",
        "colab": {
          "base_uri": "https://localhost:8080/",
          "height": 35
        },
        "outputId": "c2e8386e-a0c4-49a4-f2ca-447fa92463f9"
      },
      "source": [
        "# Sample Size\n",
        "n = len(coinflip_means)\n",
        "# Degrees of Freedom\n",
        "dof = n-1\n",
        "# The Mean of Means:\n",
        "mean = np.mean(coinflip_means)\n",
        "# Sample Standard Deviation\n",
        "sample_std = np.std(coinflip_means, ddof=1)\n",
        "# Standard Error\n",
        "std_err = sample_std/n**.5\n",
        "\n",
        "CI = t.interval(.95, dof, loc=mean, scale=std_err)\n",
        "print(\"95% Confidence Interval: \", CI)"
      ],
      "execution_count": null,
      "outputs": [
        {
          "output_type": "stream",
          "text": [
            "95% Confidence Interval:  (0.4838507346160671, 0.5228159320505993)\n"
          ],
          "name": "stdout"
        }
      ]
    },
    {
      "cell_type": "code",
      "metadata": {
        "colab_type": "code",
        "id": "PiaALHSNfWou",
        "colab": {
          "base_uri": "https://localhost:8080/",
          "height": 52
        },
        "outputId": "612dbe6c-be4e-4cbb-9aeb-81309fb54529"
      },
      "source": [
        "'''You can roll your own CI calculation pretty easily. \n",
        "The only thing that's a little bit challenging \n",
        "is understanding the t stat lookup'''\n",
        "\n",
        "# 95% confidence interval\n",
        "t_stat = t.ppf(.975, dof)\n",
        "print(\"t Statistic:\", t_stat)\n",
        "CI = (mean-(t_stat*std_err), mean+(t_stat*std_err))\n",
        "print(\"Confidence Interval\", CI)"
      ],
      "execution_count": null,
      "outputs": [
        {
          "output_type": "stream",
          "text": [
            "t Statistic: 1.9842169515086827\n",
            "Confidence Interval (0.4838507346160671, 0.5228159320505993)\n"
          ],
          "name": "stdout"
        }
      ]
    },
    {
      "cell_type": "markdown",
      "metadata": {
        "colab_type": "text",
        "id": "EamZNJhAf-fY"
      },
      "source": [
        "A null hypothesis that's just inside of our confidence interval == fail to reject\n",
        "\n"
      ]
    },
    {
      "cell_type": "code",
      "metadata": {
        "colab_type": "code",
        "id": "cNpzYbjpfirR",
        "colab": {
          "base_uri": "https://localhost:8080/",
          "height": 35
        },
        "outputId": "ec1072cb-5130-43c8-c026-df6728f521e8"
      },
      "source": [
        "# pick a value for my null hypothesis and check the p-value\n",
        "ttest_1samp(coinflip_means, .49)"
      ],
      "execution_count": null,
      "outputs": [
        {
          "output_type": "execute_result",
          "data": {
            "text/plain": [
              "Ttest_1sampResult(statistic=1.357941330314892, pvalue=0.1775692196776086)"
            ]
          },
          "metadata": {
            "tags": []
          },
          "execution_count": 51
        }
      ]
    },
    {
      "cell_type": "code",
      "metadata": {
        "colab_type": "code",
        "id": "N4SUjj82gKlv",
        "colab": {
          "base_uri": "https://localhost:8080/",
          "height": 35
        },
        "outputId": "8acaad7f-e23a-4c7a-a6aa-dc5c6a19b337"
      },
      "source": [
        "# what if I pick a null hypothesis that's just outside of our confidence interval? \n",
        "ttest_1samp(coinflip_means, .4818927)"
      ],
      "execution_count": null,
      "outputs": [
        {
          "output_type": "execute_result",
          "data": {
            "text/plain": [
              "Ttest_1sampResult(statistic=2.183634161359543, pvalue=0.03135136592292841)"
            ]
          },
          "metadata": {
            "tags": []
          },
          "execution_count": 52
        }
      ]
    },
    {
      "cell_type": "code",
      "metadata": {
        "id": "bH-a8IJwpmev",
        "colab_type": "code",
        "colab": {}
      },
      "source": [
        "# I would only see this 5% of the time, so it's unlikely and I reject the null hypothesis.\n",
        "# A comparison of what we EXPECT and what we OBSERVE."
      ],
      "execution_count": null,
      "outputs": []
    },
    {
      "cell_type": "markdown",
      "metadata": {
        "colab_type": "text",
        "id": "pTIzrkKdUaLl"
      },
      "source": [
        "## Chi Squared Test $\\chi^{2}$"
      ]
    },
    {
      "cell_type": "markdown",
      "metadata": {
        "id": "xNlWDwkIpme3",
        "colab_type": "text"
      },
      "source": [
        "A test for dependence of categorical variables. (ie, are they correlated?)"
      ]
    },
    {
      "cell_type": "code",
      "metadata": {
        "colab_type": "code",
        "id": "DDsovHUyUj3v",
        "colab": {},
        "outputId": "0396fd30-59bf-4a0b-ddee-3cbf5587b695"
      },
      "source": [
        "# read back in the earlier data.\n",
        "df = pd.read_csv('https://raw.githubusercontent.com/ryanleeallred/datasets/master/adult.csv', na_values=\" ?\")\n",
        "print(df.shape)\n",
        "df.head()"
      ],
      "execution_count": null,
      "outputs": [
        {
          "output_type": "stream",
          "text": [
            "(32561, 15)\n"
          ],
          "name": "stdout"
        },
        {
          "output_type": "execute_result",
          "data": {
            "text/html": [
              "<div>\n",
              "<style scoped>\n",
              "    .dataframe tbody tr th:only-of-type {\n",
              "        vertical-align: middle;\n",
              "    }\n",
              "\n",
              "    .dataframe tbody tr th {\n",
              "        vertical-align: top;\n",
              "    }\n",
              "\n",
              "    .dataframe thead th {\n",
              "        text-align: right;\n",
              "    }\n",
              "</style>\n",
              "<table border=\"1\" class=\"dataframe\">\n",
              "  <thead>\n",
              "    <tr style=\"text-align: right;\">\n",
              "      <th></th>\n",
              "      <th>age</th>\n",
              "      <th>workclass</th>\n",
              "      <th>fnlwgt</th>\n",
              "      <th>education</th>\n",
              "      <th>education-num</th>\n",
              "      <th>marital-status</th>\n",
              "      <th>occupation</th>\n",
              "      <th>relationship</th>\n",
              "      <th>race</th>\n",
              "      <th>sex</th>\n",
              "      <th>capital-gain</th>\n",
              "      <th>capital-loss</th>\n",
              "      <th>hours-per-week</th>\n",
              "      <th>country</th>\n",
              "      <th>salary</th>\n",
              "    </tr>\n",
              "  </thead>\n",
              "  <tbody>\n",
              "    <tr>\n",
              "      <th>0</th>\n",
              "      <td>39</td>\n",
              "      <td>State-gov</td>\n",
              "      <td>77516</td>\n",
              "      <td>Bachelors</td>\n",
              "      <td>13</td>\n",
              "      <td>Never-married</td>\n",
              "      <td>Adm-clerical</td>\n",
              "      <td>Not-in-family</td>\n",
              "      <td>White</td>\n",
              "      <td>Male</td>\n",
              "      <td>2174</td>\n",
              "      <td>0</td>\n",
              "      <td>40</td>\n",
              "      <td>United-States</td>\n",
              "      <td>&lt;=50K</td>\n",
              "    </tr>\n",
              "    <tr>\n",
              "      <th>1</th>\n",
              "      <td>50</td>\n",
              "      <td>Self-emp-not-inc</td>\n",
              "      <td>83311</td>\n",
              "      <td>Bachelors</td>\n",
              "      <td>13</td>\n",
              "      <td>Married-civ-spouse</td>\n",
              "      <td>Exec-managerial</td>\n",
              "      <td>Husband</td>\n",
              "      <td>White</td>\n",
              "      <td>Male</td>\n",
              "      <td>0</td>\n",
              "      <td>0</td>\n",
              "      <td>13</td>\n",
              "      <td>United-States</td>\n",
              "      <td>&lt;=50K</td>\n",
              "    </tr>\n",
              "    <tr>\n",
              "      <th>2</th>\n",
              "      <td>38</td>\n",
              "      <td>Private</td>\n",
              "      <td>215646</td>\n",
              "      <td>HS-grad</td>\n",
              "      <td>9</td>\n",
              "      <td>Divorced</td>\n",
              "      <td>Handlers-cleaners</td>\n",
              "      <td>Not-in-family</td>\n",
              "      <td>White</td>\n",
              "      <td>Male</td>\n",
              "      <td>0</td>\n",
              "      <td>0</td>\n",
              "      <td>40</td>\n",
              "      <td>United-States</td>\n",
              "      <td>&lt;=50K</td>\n",
              "    </tr>\n",
              "    <tr>\n",
              "      <th>3</th>\n",
              "      <td>53</td>\n",
              "      <td>Private</td>\n",
              "      <td>234721</td>\n",
              "      <td>11th</td>\n",
              "      <td>7</td>\n",
              "      <td>Married-civ-spouse</td>\n",
              "      <td>Handlers-cleaners</td>\n",
              "      <td>Husband</td>\n",
              "      <td>Black</td>\n",
              "      <td>Male</td>\n",
              "      <td>0</td>\n",
              "      <td>0</td>\n",
              "      <td>40</td>\n",
              "      <td>United-States</td>\n",
              "      <td>&lt;=50K</td>\n",
              "    </tr>\n",
              "    <tr>\n",
              "      <th>4</th>\n",
              "      <td>28</td>\n",
              "      <td>Private</td>\n",
              "      <td>338409</td>\n",
              "      <td>Bachelors</td>\n",
              "      <td>13</td>\n",
              "      <td>Married-civ-spouse</td>\n",
              "      <td>Prof-specialty</td>\n",
              "      <td>Wife</td>\n",
              "      <td>Black</td>\n",
              "      <td>Female</td>\n",
              "      <td>0</td>\n",
              "      <td>0</td>\n",
              "      <td>40</td>\n",
              "      <td>Cuba</td>\n",
              "      <td>&lt;=50K</td>\n",
              "    </tr>\n",
              "  </tbody>\n",
              "</table>\n",
              "</div>"
            ],
            "text/plain": [
              "   age          workclass  fnlwgt   education  education-num  \\\n",
              "0   39          State-gov   77516   Bachelors             13   \n",
              "1   50   Self-emp-not-inc   83311   Bachelors             13   \n",
              "2   38            Private  215646     HS-grad              9   \n",
              "3   53            Private  234721        11th              7   \n",
              "4   28            Private  338409   Bachelors             13   \n",
              "\n",
              "        marital-status          occupation    relationship    race      sex  \\\n",
              "0        Never-married        Adm-clerical   Not-in-family   White     Male   \n",
              "1   Married-civ-spouse     Exec-managerial         Husband   White     Male   \n",
              "2             Divorced   Handlers-cleaners   Not-in-family   White     Male   \n",
              "3   Married-civ-spouse   Handlers-cleaners         Husband   Black     Male   \n",
              "4   Married-civ-spouse      Prof-specialty            Wife   Black   Female   \n",
              "\n",
              "   capital-gain  capital-loss  hours-per-week         country  salary  \n",
              "0          2174             0              40   United-States   <=50K  \n",
              "1             0             0              13   United-States   <=50K  \n",
              "2             0             0              40   United-States   <=50K  \n",
              "3             0             0              40   United-States   <=50K  \n",
              "4             0             0              40            Cuba   <=50K  "
            ]
          },
          "metadata": {
            "tags": []
          },
          "execution_count": 54
        }
      ]
    },
    {
      "cell_type": "code",
      "metadata": {
        "id": "RATKjyplpme9",
        "colab_type": "code",
        "colab": {},
        "outputId": "c1651028-4476-4d27-8993-e24d668a56cf"
      },
      "source": [
        "# just the numeric columns\n",
        "df.describe"
      ],
      "execution_count": null,
      "outputs": [
        {
          "output_type": "execute_result",
          "data": {
            "text/plain": [
              "<bound method NDFrame.describe of        age          workclass  fnlwgt      education  education-num  \\\n",
              "0       39          State-gov   77516      Bachelors             13   \n",
              "1       50   Self-emp-not-inc   83311      Bachelors             13   \n",
              "2       38            Private  215646        HS-grad              9   \n",
              "3       53            Private  234721           11th              7   \n",
              "4       28            Private  338409      Bachelors             13   \n",
              "5       37            Private  284582        Masters             14   \n",
              "6       49            Private  160187            9th              5   \n",
              "7       52   Self-emp-not-inc  209642        HS-grad              9   \n",
              "8       31            Private   45781        Masters             14   \n",
              "9       42            Private  159449      Bachelors             13   \n",
              "10      37            Private  280464   Some-college             10   \n",
              "11      30          State-gov  141297      Bachelors             13   \n",
              "12      23            Private  122272      Bachelors             13   \n",
              "13      32            Private  205019     Assoc-acdm             12   \n",
              "14      40            Private  121772      Assoc-voc             11   \n",
              "15      34            Private  245487        7th-8th              4   \n",
              "16      25   Self-emp-not-inc  176756        HS-grad              9   \n",
              "17      32            Private  186824        HS-grad              9   \n",
              "18      38            Private   28887           11th              7   \n",
              "19      43   Self-emp-not-inc  292175        Masters             14   \n",
              "20      40            Private  193524      Doctorate             16   \n",
              "21      54            Private  302146        HS-grad              9   \n",
              "22      35        Federal-gov   76845            9th              5   \n",
              "23      43            Private  117037           11th              7   \n",
              "24      59            Private  109015        HS-grad              9   \n",
              "25      56          Local-gov  216851      Bachelors             13   \n",
              "26      19            Private  168294        HS-grad              9   \n",
              "27      54                NaN  180211   Some-college             10   \n",
              "28      39            Private  367260        HS-grad              9   \n",
              "29      49            Private  193366        HS-grad              9   \n",
              "...    ...                ...     ...            ...            ...   \n",
              "32531   30                NaN   33811      Bachelors             13   \n",
              "32532   34            Private  204461      Doctorate             16   \n",
              "32533   54            Private  337992      Bachelors             13   \n",
              "32534   37            Private  179137   Some-college             10   \n",
              "32535   22            Private  325033           12th              8   \n",
              "32536   34            Private  160216      Bachelors             13   \n",
              "32537   30            Private  345898        HS-grad              9   \n",
              "32538   38            Private  139180      Bachelors             13   \n",
              "32539   71                NaN  287372      Doctorate             16   \n",
              "32540   45          State-gov  252208        HS-grad              9   \n",
              "32541   41                NaN  202822        HS-grad              9   \n",
              "32542   72                NaN  129912        HS-grad              9   \n",
              "32543   45          Local-gov  119199     Assoc-acdm             12   \n",
              "32544   31            Private  199655        Masters             14   \n",
              "32545   39          Local-gov  111499     Assoc-acdm             12   \n",
              "32546   37            Private  198216     Assoc-acdm             12   \n",
              "32547   43            Private  260761        HS-grad              9   \n",
              "32548   65   Self-emp-not-inc   99359    Prof-school             15   \n",
              "32549   43          State-gov  255835   Some-college             10   \n",
              "32550   43   Self-emp-not-inc   27242   Some-college             10   \n",
              "32551   32            Private   34066           10th              6   \n",
              "32552   43            Private   84661      Assoc-voc             11   \n",
              "32553   32            Private  116138        Masters             14   \n",
              "32554   53            Private  321865        Masters             14   \n",
              "32555   22            Private  310152   Some-college             10   \n",
              "32556   27            Private  257302     Assoc-acdm             12   \n",
              "32557   40            Private  154374        HS-grad              9   \n",
              "32558   58            Private  151910        HS-grad              9   \n",
              "32559   22            Private  201490        HS-grad              9   \n",
              "32560   52       Self-emp-inc  287927        HS-grad              9   \n",
              "\n",
              "               marital-status          occupation     relationship  \\\n",
              "0               Never-married        Adm-clerical    Not-in-family   \n",
              "1          Married-civ-spouse     Exec-managerial          Husband   \n",
              "2                    Divorced   Handlers-cleaners    Not-in-family   \n",
              "3          Married-civ-spouse   Handlers-cleaners          Husband   \n",
              "4          Married-civ-spouse      Prof-specialty             Wife   \n",
              "5          Married-civ-spouse     Exec-managerial             Wife   \n",
              "6       Married-spouse-absent       Other-service    Not-in-family   \n",
              "7          Married-civ-spouse     Exec-managerial          Husband   \n",
              "8               Never-married      Prof-specialty    Not-in-family   \n",
              "9          Married-civ-spouse     Exec-managerial          Husband   \n",
              "10         Married-civ-spouse     Exec-managerial          Husband   \n",
              "11         Married-civ-spouse      Prof-specialty          Husband   \n",
              "12              Never-married        Adm-clerical        Own-child   \n",
              "13              Never-married               Sales    Not-in-family   \n",
              "14         Married-civ-spouse        Craft-repair          Husband   \n",
              "15         Married-civ-spouse    Transport-moving          Husband   \n",
              "16              Never-married     Farming-fishing        Own-child   \n",
              "17              Never-married   Machine-op-inspct        Unmarried   \n",
              "18         Married-civ-spouse               Sales          Husband   \n",
              "19                   Divorced     Exec-managerial        Unmarried   \n",
              "20         Married-civ-spouse      Prof-specialty          Husband   \n",
              "21                  Separated       Other-service        Unmarried   \n",
              "22         Married-civ-spouse     Farming-fishing          Husband   \n",
              "23         Married-civ-spouse    Transport-moving          Husband   \n",
              "24                   Divorced        Tech-support        Unmarried   \n",
              "25         Married-civ-spouse        Tech-support          Husband   \n",
              "26              Never-married        Craft-repair        Own-child   \n",
              "27         Married-civ-spouse                 NaN          Husband   \n",
              "28                   Divorced     Exec-managerial    Not-in-family   \n",
              "29         Married-civ-spouse        Craft-repair          Husband   \n",
              "...                       ...                 ...              ...   \n",
              "32531           Never-married                 NaN    Not-in-family   \n",
              "32532      Married-civ-spouse      Prof-specialty          Husband   \n",
              "32533      Married-civ-spouse     Exec-managerial          Husband   \n",
              "32534                Divorced        Adm-clerical        Unmarried   \n",
              "32535           Never-married     Protective-serv        Own-child   \n",
              "32536           Never-married     Exec-managerial    Not-in-family   \n",
              "32537           Never-married        Craft-repair    Not-in-family   \n",
              "32538                Divorced      Prof-specialty        Unmarried   \n",
              "32539      Married-civ-spouse                 NaN          Husband   \n",
              "32540               Separated        Adm-clerical        Own-child   \n",
              "32541               Separated                 NaN    Not-in-family   \n",
              "32542      Married-civ-spouse                 NaN          Husband   \n",
              "32543                Divorced      Prof-specialty        Unmarried   \n",
              "32544                Divorced       Other-service    Not-in-family   \n",
              "32545      Married-civ-spouse        Adm-clerical             Wife   \n",
              "32546                Divorced        Tech-support    Not-in-family   \n",
              "32547      Married-civ-spouse   Machine-op-inspct          Husband   \n",
              "32548           Never-married      Prof-specialty    Not-in-family   \n",
              "32549                Divorced        Adm-clerical   Other-relative   \n",
              "32550      Married-civ-spouse        Craft-repair          Husband   \n",
              "32551      Married-civ-spouse   Handlers-cleaners          Husband   \n",
              "32552      Married-civ-spouse               Sales          Husband   \n",
              "32553           Never-married        Tech-support    Not-in-family   \n",
              "32554      Married-civ-spouse     Exec-managerial          Husband   \n",
              "32555           Never-married     Protective-serv    Not-in-family   \n",
              "32556      Married-civ-spouse        Tech-support             Wife   \n",
              "32557      Married-civ-spouse   Machine-op-inspct          Husband   \n",
              "32558                 Widowed        Adm-clerical        Unmarried   \n",
              "32559           Never-married        Adm-clerical        Own-child   \n",
              "32560      Married-civ-spouse     Exec-managerial             Wife   \n",
              "\n",
              "                      race      sex  capital-gain  capital-loss  \\\n",
              "0                    White     Male          2174             0   \n",
              "1                    White     Male             0             0   \n",
              "2                    White     Male             0             0   \n",
              "3                    Black     Male             0             0   \n",
              "4                    Black   Female             0             0   \n",
              "5                    White   Female             0             0   \n",
              "6                    Black   Female             0             0   \n",
              "7                    White     Male             0             0   \n",
              "8                    White   Female         14084             0   \n",
              "9                    White     Male          5178             0   \n",
              "10                   Black     Male             0             0   \n",
              "11      Asian-Pac-Islander     Male             0             0   \n",
              "12                   White   Female             0             0   \n",
              "13                   Black     Male             0             0   \n",
              "14      Asian-Pac-Islander     Male             0             0   \n",
              "15      Amer-Indian-Eskimo     Male             0             0   \n",
              "16                   White     Male             0             0   \n",
              "17                   White     Male             0             0   \n",
              "18                   White     Male             0             0   \n",
              "19                   White   Female             0             0   \n",
              "20                   White     Male             0             0   \n",
              "21                   Black   Female             0             0   \n",
              "22                   Black     Male             0             0   \n",
              "23                   White     Male             0          2042   \n",
              "24                   White   Female             0             0   \n",
              "25                   White     Male             0             0   \n",
              "26                   White     Male             0             0   \n",
              "27      Asian-Pac-Islander     Male             0             0   \n",
              "28                   White     Male             0             0   \n",
              "29                   White     Male             0             0   \n",
              "...                    ...      ...           ...           ...   \n",
              "32531   Asian-Pac-Islander   Female             0             0   \n",
              "32532                White     Male             0             0   \n",
              "32533   Asian-Pac-Islander     Male             0             0   \n",
              "32534                White   Female             0             0   \n",
              "32535                Black     Male             0             0   \n",
              "32536                White   Female             0             0   \n",
              "32537                Black     Male             0             0   \n",
              "32538                Black   Female         15020             0   \n",
              "32539                White     Male             0             0   \n",
              "32540                White   Female             0             0   \n",
              "32541                Black   Female             0             0   \n",
              "32542                White     Male             0             0   \n",
              "32543                White   Female             0             0   \n",
              "32544                Other   Female             0             0   \n",
              "32545                White   Female             0             0   \n",
              "32546                White   Female             0             0   \n",
              "32547                White     Male             0             0   \n",
              "32548                White     Male          1086             0   \n",
              "32549                White   Female             0             0   \n",
              "32550                White     Male             0             0   \n",
              "32551   Amer-Indian-Eskimo     Male             0             0   \n",
              "32552                White     Male             0             0   \n",
              "32553   Asian-Pac-Islander     Male             0             0   \n",
              "32554                White     Male             0             0   \n",
              "32555                White     Male             0             0   \n",
              "32556                White   Female             0             0   \n",
              "32557                White     Male             0             0   \n",
              "32558                White   Female             0             0   \n",
              "32559                White     Male             0             0   \n",
              "32560                White   Female         15024             0   \n",
              "\n",
              "       hours-per-week         country  salary  \n",
              "0                  40   United-States   <=50K  \n",
              "1                  13   United-States   <=50K  \n",
              "2                  40   United-States   <=50K  \n",
              "3                  40   United-States   <=50K  \n",
              "4                  40            Cuba   <=50K  \n",
              "5                  40   United-States   <=50K  \n",
              "6                  16         Jamaica   <=50K  \n",
              "7                  45   United-States    >50K  \n",
              "8                  50   United-States    >50K  \n",
              "9                  40   United-States    >50K  \n",
              "10                 80   United-States    >50K  \n",
              "11                 40           India    >50K  \n",
              "12                 30   United-States   <=50K  \n",
              "13                 50   United-States   <=50K  \n",
              "14                 40             NaN    >50K  \n",
              "15                 45          Mexico   <=50K  \n",
              "16                 35   United-States   <=50K  \n",
              "17                 40   United-States   <=50K  \n",
              "18                 50   United-States   <=50K  \n",
              "19                 45   United-States    >50K  \n",
              "20                 60   United-States    >50K  \n",
              "21                 20   United-States   <=50K  \n",
              "22                 40   United-States   <=50K  \n",
              "23                 40   United-States   <=50K  \n",
              "24                 40   United-States   <=50K  \n",
              "25                 40   United-States    >50K  \n",
              "26                 40   United-States   <=50K  \n",
              "27                 60           South    >50K  \n",
              "28                 80   United-States   <=50K  \n",
              "29                 40   United-States   <=50K  \n",
              "...               ...             ...     ...  \n",
              "32531              99   United-States   <=50K  \n",
              "32532              60   United-States    >50K  \n",
              "32533              50           Japan    >50K  \n",
              "32534              39   United-States   <=50K  \n",
              "32535              35   United-States   <=50K  \n",
              "32536              55   United-States    >50K  \n",
              "32537              46   United-States   <=50K  \n",
              "32538              45   United-States    >50K  \n",
              "32539              10   United-States    >50K  \n",
              "32540              40   United-States   <=50K  \n",
              "32541              32   United-States   <=50K  \n",
              "32542              25   United-States   <=50K  \n",
              "32543              48   United-States   <=50K  \n",
              "32544              30   United-States   <=50K  \n",
              "32545              20   United-States    >50K  \n",
              "32546              40   United-States   <=50K  \n",
              "32547              40          Mexico   <=50K  \n",
              "32548              60   United-States   <=50K  \n",
              "32549              40   United-States   <=50K  \n",
              "32550              50   United-States   <=50K  \n",
              "32551              40   United-States   <=50K  \n",
              "32552              45   United-States   <=50K  \n",
              "32553              11          Taiwan   <=50K  \n",
              "32554              40   United-States    >50K  \n",
              "32555              40   United-States   <=50K  \n",
              "32556              38   United-States   <=50K  \n",
              "32557              40   United-States    >50K  \n",
              "32558              40   United-States   <=50K  \n",
              "32559              20   United-States   <=50K  \n",
              "32560              40   United-States    >50K  \n",
              "\n",
              "[32561 rows x 15 columns]>"
            ]
          },
          "metadata": {
            "tags": []
          },
          "execution_count": 55
        }
      ]
    },
    {
      "cell_type": "code",
      "metadata": {
        "id": "b0cuLe_EpmfD",
        "colab_type": "code",
        "colab": {},
        "outputId": "7af6759b-b8de-4737-903c-40256c55983c"
      },
      "source": [
        "# just the non-numeric columns (ie, categorical)\n",
        "df.describe(exclude='number')"
      ],
      "execution_count": null,
      "outputs": [
        {
          "output_type": "execute_result",
          "data": {
            "text/html": [
              "<div>\n",
              "<style scoped>\n",
              "    .dataframe tbody tr th:only-of-type {\n",
              "        vertical-align: middle;\n",
              "    }\n",
              "\n",
              "    .dataframe tbody tr th {\n",
              "        vertical-align: top;\n",
              "    }\n",
              "\n",
              "    .dataframe thead th {\n",
              "        text-align: right;\n",
              "    }\n",
              "</style>\n",
              "<table border=\"1\" class=\"dataframe\">\n",
              "  <thead>\n",
              "    <tr style=\"text-align: right;\">\n",
              "      <th></th>\n",
              "      <th>workclass</th>\n",
              "      <th>education</th>\n",
              "      <th>marital-status</th>\n",
              "      <th>occupation</th>\n",
              "      <th>relationship</th>\n",
              "      <th>race</th>\n",
              "      <th>sex</th>\n",
              "      <th>country</th>\n",
              "      <th>salary</th>\n",
              "    </tr>\n",
              "  </thead>\n",
              "  <tbody>\n",
              "    <tr>\n",
              "      <th>count</th>\n",
              "      <td>30725</td>\n",
              "      <td>32561</td>\n",
              "      <td>32561</td>\n",
              "      <td>30718</td>\n",
              "      <td>32561</td>\n",
              "      <td>32561</td>\n",
              "      <td>32561</td>\n",
              "      <td>31978</td>\n",
              "      <td>32561</td>\n",
              "    </tr>\n",
              "    <tr>\n",
              "      <th>unique</th>\n",
              "      <td>8</td>\n",
              "      <td>16</td>\n",
              "      <td>7</td>\n",
              "      <td>14</td>\n",
              "      <td>6</td>\n",
              "      <td>5</td>\n",
              "      <td>2</td>\n",
              "      <td>41</td>\n",
              "      <td>2</td>\n",
              "    </tr>\n",
              "    <tr>\n",
              "      <th>top</th>\n",
              "      <td>Private</td>\n",
              "      <td>HS-grad</td>\n",
              "      <td>Married-civ-spouse</td>\n",
              "      <td>Prof-specialty</td>\n",
              "      <td>Husband</td>\n",
              "      <td>White</td>\n",
              "      <td>Male</td>\n",
              "      <td>United-States</td>\n",
              "      <td>&lt;=50K</td>\n",
              "    </tr>\n",
              "    <tr>\n",
              "      <th>freq</th>\n",
              "      <td>22696</td>\n",
              "      <td>10501</td>\n",
              "      <td>14976</td>\n",
              "      <td>4140</td>\n",
              "      <td>13193</td>\n",
              "      <td>27816</td>\n",
              "      <td>21790</td>\n",
              "      <td>29170</td>\n",
              "      <td>24720</td>\n",
              "    </tr>\n",
              "  </tbody>\n",
              "</table>\n",
              "</div>"
            ],
            "text/plain": [
              "       workclass education       marital-status       occupation relationship  \\\n",
              "count      30725     32561                32561            30718        32561   \n",
              "unique         8        16                    7               14            6   \n",
              "top      Private   HS-grad   Married-civ-spouse   Prof-specialty      Husband   \n",
              "freq       22696     10501                14976             4140        13193   \n",
              "\n",
              "          race    sex         country  salary  \n",
              "count    32561  32561           31978   32561  \n",
              "unique       5      2              41       2  \n",
              "top      White   Male   United-States   <=50K  \n",
              "freq     27816  21790           29170   24720  "
            ]
          },
          "metadata": {
            "tags": []
          },
          "execution_count": 56
        }
      ]
    },
    {
      "cell_type": "code",
      "metadata": {
        "id": "eEvVIER8pmfL",
        "colab_type": "code",
        "colab": {},
        "outputId": "2b99db84-fcc9-4eb5-88b2-ff7fa212a82d"
      },
      "source": [
        "# create some binned categories \n",
        "cut_points = [0, 9, 19, 29, 39, 49, 1000]\n",
        "label_names = ['0-9', '10-19', '20-29', '30-39', '40-49', '50+']\n",
        "df['hours_per_week_categories'] = pd.cut(df['hours-per-week'], cut_points, labels=label_names)\n",
        "\n",
        "df.head()"
      ],
      "execution_count": null,
      "outputs": [
        {
          "output_type": "execute_result",
          "data": {
            "text/html": [
              "<div>\n",
              "<style scoped>\n",
              "    .dataframe tbody tr th:only-of-type {\n",
              "        vertical-align: middle;\n",
              "    }\n",
              "\n",
              "    .dataframe tbody tr th {\n",
              "        vertical-align: top;\n",
              "    }\n",
              "\n",
              "    .dataframe thead th {\n",
              "        text-align: right;\n",
              "    }\n",
              "</style>\n",
              "<table border=\"1\" class=\"dataframe\">\n",
              "  <thead>\n",
              "    <tr style=\"text-align: right;\">\n",
              "      <th></th>\n",
              "      <th>age</th>\n",
              "      <th>workclass</th>\n",
              "      <th>fnlwgt</th>\n",
              "      <th>education</th>\n",
              "      <th>education-num</th>\n",
              "      <th>marital-status</th>\n",
              "      <th>occupation</th>\n",
              "      <th>relationship</th>\n",
              "      <th>race</th>\n",
              "      <th>sex</th>\n",
              "      <th>capital-gain</th>\n",
              "      <th>capital-loss</th>\n",
              "      <th>hours-per-week</th>\n",
              "      <th>country</th>\n",
              "      <th>salary</th>\n",
              "      <th>hours_per_week_categories</th>\n",
              "    </tr>\n",
              "  </thead>\n",
              "  <tbody>\n",
              "    <tr>\n",
              "      <th>0</th>\n",
              "      <td>39</td>\n",
              "      <td>State-gov</td>\n",
              "      <td>77516</td>\n",
              "      <td>Bachelors</td>\n",
              "      <td>13</td>\n",
              "      <td>Never-married</td>\n",
              "      <td>Adm-clerical</td>\n",
              "      <td>Not-in-family</td>\n",
              "      <td>White</td>\n",
              "      <td>Male</td>\n",
              "      <td>2174</td>\n",
              "      <td>0</td>\n",
              "      <td>40</td>\n",
              "      <td>United-States</td>\n",
              "      <td>&lt;=50K</td>\n",
              "      <td>40-49</td>\n",
              "    </tr>\n",
              "    <tr>\n",
              "      <th>1</th>\n",
              "      <td>50</td>\n",
              "      <td>Self-emp-not-inc</td>\n",
              "      <td>83311</td>\n",
              "      <td>Bachelors</td>\n",
              "      <td>13</td>\n",
              "      <td>Married-civ-spouse</td>\n",
              "      <td>Exec-managerial</td>\n",
              "      <td>Husband</td>\n",
              "      <td>White</td>\n",
              "      <td>Male</td>\n",
              "      <td>0</td>\n",
              "      <td>0</td>\n",
              "      <td>13</td>\n",
              "      <td>United-States</td>\n",
              "      <td>&lt;=50K</td>\n",
              "      <td>10-19</td>\n",
              "    </tr>\n",
              "    <tr>\n",
              "      <th>2</th>\n",
              "      <td>38</td>\n",
              "      <td>Private</td>\n",
              "      <td>215646</td>\n",
              "      <td>HS-grad</td>\n",
              "      <td>9</td>\n",
              "      <td>Divorced</td>\n",
              "      <td>Handlers-cleaners</td>\n",
              "      <td>Not-in-family</td>\n",
              "      <td>White</td>\n",
              "      <td>Male</td>\n",
              "      <td>0</td>\n",
              "      <td>0</td>\n",
              "      <td>40</td>\n",
              "      <td>United-States</td>\n",
              "      <td>&lt;=50K</td>\n",
              "      <td>40-49</td>\n",
              "    </tr>\n",
              "    <tr>\n",
              "      <th>3</th>\n",
              "      <td>53</td>\n",
              "      <td>Private</td>\n",
              "      <td>234721</td>\n",
              "      <td>11th</td>\n",
              "      <td>7</td>\n",
              "      <td>Married-civ-spouse</td>\n",
              "      <td>Handlers-cleaners</td>\n",
              "      <td>Husband</td>\n",
              "      <td>Black</td>\n",
              "      <td>Male</td>\n",
              "      <td>0</td>\n",
              "      <td>0</td>\n",
              "      <td>40</td>\n",
              "      <td>United-States</td>\n",
              "      <td>&lt;=50K</td>\n",
              "      <td>40-49</td>\n",
              "    </tr>\n",
              "    <tr>\n",
              "      <th>4</th>\n",
              "      <td>28</td>\n",
              "      <td>Private</td>\n",
              "      <td>338409</td>\n",
              "      <td>Bachelors</td>\n",
              "      <td>13</td>\n",
              "      <td>Married-civ-spouse</td>\n",
              "      <td>Prof-specialty</td>\n",
              "      <td>Wife</td>\n",
              "      <td>Black</td>\n",
              "      <td>Female</td>\n",
              "      <td>0</td>\n",
              "      <td>0</td>\n",
              "      <td>40</td>\n",
              "      <td>Cuba</td>\n",
              "      <td>&lt;=50K</td>\n",
              "      <td>40-49</td>\n",
              "    </tr>\n",
              "  </tbody>\n",
              "</table>\n",
              "</div>"
            ],
            "text/plain": [
              "   age          workclass  fnlwgt   education  education-num  \\\n",
              "0   39          State-gov   77516   Bachelors             13   \n",
              "1   50   Self-emp-not-inc   83311   Bachelors             13   \n",
              "2   38            Private  215646     HS-grad              9   \n",
              "3   53            Private  234721        11th              7   \n",
              "4   28            Private  338409   Bachelors             13   \n",
              "\n",
              "        marital-status          occupation    relationship    race      sex  \\\n",
              "0        Never-married        Adm-clerical   Not-in-family   White     Male   \n",
              "1   Married-civ-spouse     Exec-managerial         Husband   White     Male   \n",
              "2             Divorced   Handlers-cleaners   Not-in-family   White     Male   \n",
              "3   Married-civ-spouse   Handlers-cleaners         Husband   Black     Male   \n",
              "4   Married-civ-spouse      Prof-specialty            Wife   Black   Female   \n",
              "\n",
              "   capital-gain  capital-loss  hours-per-week         country  salary  \\\n",
              "0          2174             0              40   United-States   <=50K   \n",
              "1             0             0              13   United-States   <=50K   \n",
              "2             0             0              40   United-States   <=50K   \n",
              "3             0             0              40   United-States   <=50K   \n",
              "4             0             0              40            Cuba   <=50K   \n",
              "\n",
              "  hours_per_week_categories  \n",
              "0                     40-49  \n",
              "1                     10-19  \n",
              "2                     40-49  \n",
              "3                     40-49  \n",
              "4                     40-49  "
            ]
          },
          "metadata": {
            "tags": []
          },
          "execution_count": 57
        }
      ]
    },
    {
      "cell_type": "code",
      "metadata": {
        "id": "cx_Akhk_pmfQ",
        "colab_type": "code",
        "colab": {},
        "outputId": "49ab8fc3-b7b2-43f0-83cb-ee9c146b621d"
      },
      "source": [
        "# sex\n",
        "df['sex'].value_counts()"
      ],
      "execution_count": null,
      "outputs": [
        {
          "output_type": "execute_result",
          "data": {
            "text/plain": [
              " Male      21790\n",
              " Female    10771\n",
              "Name: sex, dtype: int64"
            ]
          },
          "metadata": {
            "tags": []
          },
          "execution_count": 58
        }
      ]
    },
    {
      "cell_type": "code",
      "metadata": {
        "id": "kX2q8SwYpmfV",
        "colab_type": "code",
        "colab": {},
        "outputId": "adb005ae-bc7d-4bce-d519-c93552fe453a"
      },
      "source": [
        "# binned category\n",
        "df['hours_per_week_categories'].value_counts()"
      ],
      "execution_count": null,
      "outputs": [
        {
          "output_type": "execute_result",
          "data": {
            "text/plain": [
              "40-49    18336\n",
              "50+       6462\n",
              "30-39     3667\n",
              "20-29     2392\n",
              "10-19     1246\n",
              "0-9        458\n",
              "Name: hours_per_week_categories, dtype: int64"
            ]
          },
          "metadata": {
            "tags": []
          },
          "execution_count": 59
        }
      ]
    },
    {
      "cell_type": "code",
      "metadata": {
        "id": "POCCCvwJpmfa",
        "colab_type": "code",
        "colab": {},
        "outputId": "b6006f89-1b58-45e3-f93b-d0d8047f2cbf"
      },
      "source": [
        "df = df.sort_values(by='hours_per_week_categories', ascending=True)\n",
        "\n",
        "df.head()"
      ],
      "execution_count": null,
      "outputs": [
        {
          "output_type": "execute_result",
          "data": {
            "text/html": [
              "<div>\n",
              "<style scoped>\n",
              "    .dataframe tbody tr th:only-of-type {\n",
              "        vertical-align: middle;\n",
              "    }\n",
              "\n",
              "    .dataframe tbody tr th {\n",
              "        vertical-align: top;\n",
              "    }\n",
              "\n",
              "    .dataframe thead th {\n",
              "        text-align: right;\n",
              "    }\n",
              "</style>\n",
              "<table border=\"1\" class=\"dataframe\">\n",
              "  <thead>\n",
              "    <tr style=\"text-align: right;\">\n",
              "      <th></th>\n",
              "      <th>age</th>\n",
              "      <th>workclass</th>\n",
              "      <th>fnlwgt</th>\n",
              "      <th>education</th>\n",
              "      <th>education-num</th>\n",
              "      <th>marital-status</th>\n",
              "      <th>occupation</th>\n",
              "      <th>relationship</th>\n",
              "      <th>race</th>\n",
              "      <th>sex</th>\n",
              "      <th>capital-gain</th>\n",
              "      <th>capital-loss</th>\n",
              "      <th>hours-per-week</th>\n",
              "      <th>country</th>\n",
              "      <th>salary</th>\n",
              "      <th>hours_per_week_categories</th>\n",
              "    </tr>\n",
              "  </thead>\n",
              "  <tbody>\n",
              "    <tr>\n",
              "      <th>31290</th>\n",
              "      <td>55</td>\n",
              "      <td>Self-emp-not-inc</td>\n",
              "      <td>41938</td>\n",
              "      <td>Bachelors</td>\n",
              "      <td>13</td>\n",
              "      <td>Married-civ-spouse</td>\n",
              "      <td>Prof-specialty</td>\n",
              "      <td>Wife</td>\n",
              "      <td>White</td>\n",
              "      <td>Female</td>\n",
              "      <td>0</td>\n",
              "      <td>0</td>\n",
              "      <td>8</td>\n",
              "      <td>United-States</td>\n",
              "      <td>&lt;=50K</td>\n",
              "      <td>0-9</td>\n",
              "    </tr>\n",
              "    <tr>\n",
              "      <th>5172</th>\n",
              "      <td>32</td>\n",
              "      <td>NaN</td>\n",
              "      <td>134886</td>\n",
              "      <td>HS-grad</td>\n",
              "      <td>9</td>\n",
              "      <td>Married-civ-spouse</td>\n",
              "      <td>NaN</td>\n",
              "      <td>Wife</td>\n",
              "      <td>White</td>\n",
              "      <td>Female</td>\n",
              "      <td>0</td>\n",
              "      <td>0</td>\n",
              "      <td>2</td>\n",
              "      <td>United-States</td>\n",
              "      <td>&gt;50K</td>\n",
              "      <td>0-9</td>\n",
              "    </tr>\n",
              "    <tr>\n",
              "      <th>22928</th>\n",
              "      <td>17</td>\n",
              "      <td>NaN</td>\n",
              "      <td>332666</td>\n",
              "      <td>10th</td>\n",
              "      <td>6</td>\n",
              "      <td>Never-married</td>\n",
              "      <td>NaN</td>\n",
              "      <td>Own-child</td>\n",
              "      <td>White</td>\n",
              "      <td>Female</td>\n",
              "      <td>0</td>\n",
              "      <td>0</td>\n",
              "      <td>4</td>\n",
              "      <td>United-States</td>\n",
              "      <td>&lt;=50K</td>\n",
              "      <td>0-9</td>\n",
              "    </tr>\n",
              "    <tr>\n",
              "      <th>7902</th>\n",
              "      <td>35</td>\n",
              "      <td>Private</td>\n",
              "      <td>359131</td>\n",
              "      <td>Bachelors</td>\n",
              "      <td>13</td>\n",
              "      <td>Married-civ-spouse</td>\n",
              "      <td>Prof-specialty</td>\n",
              "      <td>Wife</td>\n",
              "      <td>White</td>\n",
              "      <td>Female</td>\n",
              "      <td>7298</td>\n",
              "      <td>0</td>\n",
              "      <td>8</td>\n",
              "      <td>NaN</td>\n",
              "      <td>&gt;50K</td>\n",
              "      <td>0-9</td>\n",
              "    </tr>\n",
              "    <tr>\n",
              "      <th>6604</th>\n",
              "      <td>41</td>\n",
              "      <td>Private</td>\n",
              "      <td>406603</td>\n",
              "      <td>HS-grad</td>\n",
              "      <td>9</td>\n",
              "      <td>Never-married</td>\n",
              "      <td>Other-service</td>\n",
              "      <td>Not-in-family</td>\n",
              "      <td>White</td>\n",
              "      <td>Male</td>\n",
              "      <td>0</td>\n",
              "      <td>0</td>\n",
              "      <td>6</td>\n",
              "      <td>Iran</td>\n",
              "      <td>&lt;=50K</td>\n",
              "      <td>0-9</td>\n",
              "    </tr>\n",
              "  </tbody>\n",
              "</table>\n",
              "</div>"
            ],
            "text/plain": [
              "       age          workclass  fnlwgt   education  education-num  \\\n",
              "31290   55   Self-emp-not-inc   41938   Bachelors             13   \n",
              "5172    32                NaN  134886     HS-grad              9   \n",
              "22928   17                NaN  332666        10th              6   \n",
              "7902    35            Private  359131   Bachelors             13   \n",
              "6604    41            Private  406603     HS-grad              9   \n",
              "\n",
              "            marital-status       occupation    relationship    race      sex  \\\n",
              "31290   Married-civ-spouse   Prof-specialty            Wife   White   Female   \n",
              "5172    Married-civ-spouse              NaN            Wife   White   Female   \n",
              "22928        Never-married              NaN       Own-child   White   Female   \n",
              "7902    Married-civ-spouse   Prof-specialty            Wife   White   Female   \n",
              "6604         Never-married    Other-service   Not-in-family   White     Male   \n",
              "\n",
              "       capital-gain  capital-loss  hours-per-week         country  salary  \\\n",
              "31290             0             0               8   United-States   <=50K   \n",
              "5172              0             0               2   United-States    >50K   \n",
              "22928             0             0               4   United-States   <=50K   \n",
              "7902           7298             0               8             NaN    >50K   \n",
              "6604              0             0               6            Iran   <=50K   \n",
              "\n",
              "      hours_per_week_categories  \n",
              "31290                       0-9  \n",
              "5172                        0-9  \n",
              "22928                       0-9  \n",
              "7902                        0-9  \n",
              "6604                        0-9  "
            ]
          },
          "metadata": {
            "tags": []
          },
          "execution_count": 60
        }
      ]
    },
    {
      "cell_type": "code",
      "metadata": {
        "id": "EkGdLhYqpmff",
        "colab_type": "code",
        "colab": {},
        "outputId": "cdf6298d-b28e-49e0-e918-a2cf8e2c304b"
      },
      "source": [
        "contingency_table = pd.crosstab(df['sex'], df['hours_per_week_categories'], margins=True)\n",
        "\n",
        "contingency_table"
      ],
      "execution_count": null,
      "outputs": [
        {
          "output_type": "execute_result",
          "data": {
            "text/html": [
              "<div>\n",
              "<style scoped>\n",
              "    .dataframe tbody tr th:only-of-type {\n",
              "        vertical-align: middle;\n",
              "    }\n",
              "\n",
              "    .dataframe tbody tr th {\n",
              "        vertical-align: top;\n",
              "    }\n",
              "\n",
              "    .dataframe thead th {\n",
              "        text-align: right;\n",
              "    }\n",
              "</style>\n",
              "<table border=\"1\" class=\"dataframe\">\n",
              "  <thead>\n",
              "    <tr style=\"text-align: right;\">\n",
              "      <th>hours_per_week_categories</th>\n",
              "      <th>0-9</th>\n",
              "      <th>10-19</th>\n",
              "      <th>20-29</th>\n",
              "      <th>30-39</th>\n",
              "      <th>40-49</th>\n",
              "      <th>50+</th>\n",
              "      <th>All</th>\n",
              "    </tr>\n",
              "    <tr>\n",
              "      <th>sex</th>\n",
              "      <th></th>\n",
              "      <th></th>\n",
              "      <th></th>\n",
              "      <th></th>\n",
              "      <th></th>\n",
              "      <th></th>\n",
              "      <th></th>\n",
              "    </tr>\n",
              "  </thead>\n",
              "  <tbody>\n",
              "    <tr>\n",
              "      <th>Female</th>\n",
              "      <td>235</td>\n",
              "      <td>671</td>\n",
              "      <td>1287</td>\n",
              "      <td>1914</td>\n",
              "      <td>5636</td>\n",
              "      <td>1028</td>\n",
              "      <td>10771</td>\n",
              "    </tr>\n",
              "    <tr>\n",
              "      <th>Male</th>\n",
              "      <td>223</td>\n",
              "      <td>575</td>\n",
              "      <td>1105</td>\n",
              "      <td>1753</td>\n",
              "      <td>12700</td>\n",
              "      <td>5434</td>\n",
              "      <td>21790</td>\n",
              "    </tr>\n",
              "    <tr>\n",
              "      <th>All</th>\n",
              "      <td>458</td>\n",
              "      <td>1246</td>\n",
              "      <td>2392</td>\n",
              "      <td>3667</td>\n",
              "      <td>18336</td>\n",
              "      <td>6462</td>\n",
              "      <td>32561</td>\n",
              "    </tr>\n",
              "  </tbody>\n",
              "</table>\n",
              "</div>"
            ],
            "text/plain": [
              "hours_per_week_categories  0-9  10-19  20-29  30-39  40-49   50+    All\n",
              "sex                                                                    \n",
              " Female                    235    671   1287   1914   5636  1028  10771\n",
              " Male                      223    575   1105   1753  12700  5434  21790\n",
              "All                        458   1246   2392   3667  18336  6462  32561"
            ]
          },
          "metadata": {
            "tags": []
          },
          "execution_count": 61
        }
      ]
    },
    {
      "cell_type": "code",
      "metadata": {
        "id": "JtTiCJSypmfq",
        "colab_type": "code",
        "colab": {},
        "outputId": "a4cc56fb-f7c5-49f7-e3d7-27e244dc1d74"
      },
      "source": [
        "# create a set of female counts\n",
        "femalecount = contingency_table.iloc[0][0:6].values\n",
        "femalecount"
      ],
      "execution_count": null,
      "outputs": [
        {
          "output_type": "execute_result",
          "data": {
            "text/plain": [
              "array([ 235,  671, 1287, 1914, 5636, 1028])"
            ]
          },
          "metadata": {
            "tags": []
          },
          "execution_count": 62
        }
      ]
    },
    {
      "cell_type": "code",
      "metadata": {
        "id": "NBa1E9uBpmfv",
        "colab_type": "code",
        "colab": {},
        "outputId": "34216530-e89e-4ead-c70a-5214e434966b"
      },
      "source": [
        "# create a set of male counts\n",
        "malecount = contingency_table.iloc[1][0:6].values\n",
        "malecount"
      ],
      "execution_count": null,
      "outputs": [
        {
          "output_type": "execute_result",
          "data": {
            "text/plain": [
              "array([  223,   575,  1105,  1753, 12700,  5434])"
            ]
          },
          "metadata": {
            "tags": []
          },
          "execution_count": 63
        }
      ]
    },
    {
      "cell_type": "code",
      "metadata": {
        "id": "ryvZMDsNpmf5",
        "colab_type": "code",
        "colab": {},
        "outputId": "4551361c-9cec-4f00-f4af-6fc71b0201a3"
      },
      "source": [
        "#Plots the bar chart\n",
        "fig = plt.figure(figsize=(10, 5))\n",
        "sns.set(font_scale=1.8)\n",
        "categories = [\"0-9\",\"10-19\",\"20-29\",\"30-39\",\"40-49\",\"50+\"]\n",
        "p1 = plt.bar(categories, malecount, 0.55, color='#d62728')\n",
        "p2 = plt.bar(categories, femalecount, 0.55, bottom=malecount)\n",
        "plt.legend((p2[0], p1[0]), ('Female', 'Male'))\n",
        "plt.xlabel('Hours per Week Worked')\n",
        "plt.ylabel('Count')\n",
        "plt.show()"
      ],
      "execution_count": null,
      "outputs": [
        {
          "output_type": "display_data",
          "data": {
            "image/png": "[encoded data removed]",
            "text/plain": [
              "<Figure size 720x360 with 1 Axes>"
            ]
          },
          "metadata": {
            "tags": [],
            "needs_background": "light"
          }
        }
      ]
    },
    {
      "cell_type": "markdown",
      "metadata": {
        "id": "AYZGtG-RpmgB",
        "colab_type": "text"
      },
      "source": [
        "## Expected Value Calculation\n",
        "\\begin{align}\n",
        "expected_{i,j} =\\frac{(row_{i} \\text{total})(column_{j} \\text{total}) }{(\\text{total observations})}  \n",
        "\\end{align}"
      ]
    },
    {
      "cell_type": "code",
      "metadata": {
        "id": "R-esvuqypmgB",
        "colab_type": "code",
        "colab": {},
        "outputId": "974b713c-3fb9-4431-945e-8e8a15352cb6"
      },
      "source": [
        "row_sums = contingency_table.iloc[0:2, 6].values\n",
        "col_sums = contingency_table.iloc[2, 0:6].values\n",
        "\n",
        "print(row_sums)\n",
        "print(col_sums)"
      ],
      "execution_count": null,
      "outputs": [
        {
          "output_type": "stream",
          "text": [
            "[10771 21790]\n",
            "[  458  1246  2392  3667 18336  6462]\n"
          ],
          "name": "stdout"
        }
      ]
    },
    {
      "cell_type": "code",
      "metadata": {
        "id": "2K7FaRFHpmgK",
        "colab_type": "code",
        "colab": {},
        "outputId": "58adbc25-5509-495a-ba69-e07f2e654930"
      },
      "source": [
        "total = contingency_table.loc['All','All']\n",
        "total"
      ],
      "execution_count": null,
      "outputs": [
        {
          "output_type": "execute_result",
          "data": {
            "text/plain": [
              "32561"
            ]
          },
          "metadata": {
            "tags": []
          },
          "execution_count": 66
        }
      ]
    },
    {
      "cell_type": "code",
      "metadata": {
        "id": "l_8STqlJpmgO",
        "colab_type": "code",
        "colab": {},
        "outputId": "cd97862b-0f23-45ec-de3d-ffdae50e1e10"
      },
      "source": [
        "df.shape[0]"
      ],
      "execution_count": null,
      "outputs": [
        {
          "output_type": "execute_result",
          "data": {
            "text/plain": [
              "32561"
            ]
          },
          "metadata": {
            "tags": []
          },
          "execution_count": 67
        }
      ]
    },
    {
      "cell_type": "code",
      "metadata": {
        "id": "g_MS3WiUpmgS",
        "colab_type": "code",
        "colab": {},
        "outputId": "b65faa52-d520-491e-cdc6-4514ad3669c4"
      },
      "source": [
        "expected = []\n",
        "for i in range(len(row_sums)):\n",
        "    expected_row = []\n",
        "    for column in col_sums:\n",
        "        expected_val = column*row_sums[i]/total\n",
        "        expected_row.append(expected_val)\n",
        "    expected.append(expected_row)\n",
        "    \n",
        "expected = np.array(expected)\n",
        "print(expected.shape)  \n",
        "print(expected)"
      ],
      "execution_count": null,
      "outputs": [
        {
          "output_type": "stream",
          "text": [
            "(2, 6)\n",
            "[[  151.50388502   412.16995793   791.26046497  1213.02346365\n",
            "   6065.44811277  2137.59411566]\n",
            " [  306.49611498   833.83004207  1600.73953503  2453.97653635\n",
            "  12270.55188723  4324.40588434]]\n"
          ],
          "name": "stdout"
        }
      ]
    },
    {
      "cell_type": "code",
      "metadata": {
        "id": "JrwhE93Epmga",
        "colab_type": "code",
        "colab": {},
        "outputId": "08c012ab-6906-41f2-d70c-a30fe30d201c"
      },
      "source": [
        "observed = pd.crosstab(df['sex'], df['hours_per_week_categories']).values\n",
        "print(observed.shape)\n",
        "observed"
      ],
      "execution_count": null,
      "outputs": [
        {
          "output_type": "stream",
          "text": [
            "(2, 6)\n"
          ],
          "name": "stdout"
        },
        {
          "output_type": "execute_result",
          "data": {
            "text/plain": [
              "array([[  235,   671,  1287,  1914,  5636,  1028],\n",
              "       [  223,   575,  1105,  1753, 12700,  5434]])"
            ]
          },
          "metadata": {
            "tags": []
          },
          "execution_count": 69
        }
      ]
    },
    {
      "cell_type": "markdown",
      "metadata": {
        "id": "GfzR8Kzmpmgg",
        "colab_type": "text"
      },
      "source": [
        "## Chi-Squared Statistic with Numpy\n",
        "\n",
        "\\begin{align}\n",
        "\\chi^2 = \\sum \\frac{(observed_{i}-expected_{i})^2}{(expected_{i})}\n",
        "\\end{align}\n",
        "\n",
        "For the $observed$ values we will just use a version of our contingency table without the margins as a numpy array. In this way, if our observed values array and our expected values array are the same shape, then we can subtract them and divide them directly which makes the calculations a lot cleaner. No for loops!"
      ]
    },
    {
      "cell_type": "code",
      "metadata": {
        "id": "i_EfFHrMpmgg",
        "colab_type": "code",
        "colab": {},
        "outputId": "6ba09f87-0ee6-456c-e5cc-2f5eb55b8ca2"
      },
      "source": [
        "# Array broadcasting will work with numpy arrays but not python lists\n",
        "chi_squared = ((observed - expected)**2/(expected)).sum() \n",
        "print(f\"Chi-Squared: {chi_squared}\")"
      ],
      "execution_count": null,
      "outputs": [
        {
          "output_type": "stream",
          "text": [
            "Chi-Squared: 2287.190943926107\n"
          ],
          "name": "stdout"
        }
      ]
    },
    {
      "cell_type": "code",
      "metadata": {
        "id": "vmrX1d4ppmgm",
        "colab_type": "code",
        "colab": {},
        "outputId": "e8f5f5ab-0483-4738-8822-00d83b961fbe"
      },
      "source": [
        "# Degrees of Freedom of a Chi-squared test\n",
        "\n",
        "#degrees_of_freedom = (num_rows - 1)(num_columns - 1)\n",
        "\n",
        "\n",
        "# Calculate Degrees of Freedom\n",
        "dof = (len(row_sums)-1)*(len(col_sums)-1)\n",
        "print(f\"Degrees of Freedom: {dof}\")   "
      ],
      "execution_count": null,
      "outputs": [
        {
          "output_type": "stream",
          "text": [
            "Degrees of Freedom: 5\n"
          ],
          "name": "stdout"
        }
      ]
    },
    {
      "cell_type": "markdown",
      "metadata": {
        "colab_type": "text",
        "id": "7Igz-XHcVbW3"
      },
      "source": [
        "## Run a $\\chi^{2}$ Test using Scipy"
      ]
    },
    {
      "cell_type": "code",
      "metadata": {
        "colab_type": "code",
        "id": "X52Nwt7AVlvk",
        "colab": {},
        "outputId": "3d39b724-3beb-4887-b53e-598686a59e84"
      },
      "source": [
        "chi_squared, p_value, dof, expected = stats.chi2_contingency(observed)\n",
        "\n",
        "print(f\"Chi-Squared: {chi_squared}\")\n",
        "print(f\"P-value: {p_value}\")\n",
        "print(f\"Degrees of Freedom: {dof}\") \n",
        "print(\"Expected: \\n\", np.array(expected))"
      ],
      "execution_count": null,
      "outputs": [
        {
          "output_type": "stream",
          "text": [
            "Chi-Squared: 2287.190943926107\n",
            "P-value: 0.0\n",
            "Degrees of Freedom: 5\n",
            "Expected: \n",
            " [[  151.50388502   412.16995793   791.26046497  1213.02346365\n",
            "   6065.44811277  2137.59411566]\n",
            " [  306.49611498   833.83004207  1600.73953503  2453.97653635\n",
            "  12270.55188723  4324.40588434]]\n"
          ],
          "name": "stdout"
        }
      ]
    },
    {
      "cell_type": "markdown",
      "metadata": {
        "id": "86w4CNMQpmgv",
        "colab_type": "text"
      },
      "source": [
        "Null Hypothesis: Hours worked per week bins is **independent** of sex. \n",
        "\n",
        "Due to a p-value of 0, we REJECT the null hypothesis that hours worked per week and sex are independent, and conclude that there is an association between hours worked per week and sex."
      ]
    },
    {
      "cell_type": "markdown",
      "metadata": {
        "id": "JOT7y74zpmg0",
        "colab_type": "text"
      },
      "source": [
        "### Another example"
      ]
    },
    {
      "cell_type": "code",
      "metadata": {
        "id": "pCOgGtILpmg0",
        "colab_type": "code",
        "colab": {}
      },
      "source": [
        "# sex and salary\n",
        "observed=pd.crosstab(df['sex'], df['salary']).values"
      ],
      "execution_count": null,
      "outputs": []
    },
    {
      "cell_type": "code",
      "metadata": {
        "id": "O29q7Kdtpmg6",
        "colab_type": "code",
        "colab": {},
        "outputId": "a4b24c5a-79a0-420f-c0a3-4f56252e186a"
      },
      "source": [
        "# chi square test\n",
        "chi_squared, p_value, dof, expected = stats.chi2_contingency(observed)\n",
        "\n",
        "print(f\"Chi-Squared: {chi_squared}\")\n",
        "print(f\"P-value: {p_value}\")\n",
        "print(f\"Degrees of Freedom: {dof}\") \n",
        "print(\"Expected: \\n\", np.array(expected))"
      ],
      "execution_count": null,
      "outputs": [
        {
          "output_type": "stream",
          "text": [
            "Chi-Squared: 1517.813409134445\n",
            "P-value: 0.0\n",
            "Degrees of Freedom: 1\n",
            "Expected: \n",
            " [[ 8177.24025675  2593.75974325]\n",
            " [16542.75974325  5247.24025675]]\n"
          ],
          "name": "stdout"
        }
      ]
    },
    {
      "cell_type": "code",
      "metadata": {
        "id": "DWZtDwZxpmg_",
        "colab_type": "code",
        "colab": {},
        "outputId": "55309931-0670-4b2b-8c53-43fcc139c993"
      },
      "source": [
        "# age and salary\n",
        "df['age_groups']=0\n",
        "df.loc[df['age']>20, 'age_groups']=1\n",
        "df.loc[df['age']>30, 'age_groups']=2\n",
        "df.loc[df['age']>40, 'age_groups']=3\n",
        "df.loc[df['age']>50, 'age_groups']=4\n",
        "df['age_groups'].value_counts()"
      ],
      "execution_count": null,
      "outputs": [
        {
          "output_type": "execute_result",
          "data": {
            "text/plain": [
              "2    8546\n",
              "1    8162\n",
              "3    6983\n",
              "4    6460\n",
              "0    2410\n",
              "Name: age_groups, dtype: int64"
            ]
          },
          "metadata": {
            "tags": []
          },
          "execution_count": 75
        }
      ]
    },
    {
      "cell_type": "code",
      "metadata": {
        "id": "RO33yy1rpmhJ",
        "colab_type": "code",
        "colab": {},
        "outputId": "a92ba585-756a-4557-e4cb-58a1811bc41f"
      },
      "source": [
        "# crosstab\n",
        "observed=pd.crosstab(df['age_groups'], df['salary']).values\n",
        "observed"
      ],
      "execution_count": null,
      "outputs": [
        {
          "output_type": "execute_result",
          "data": {
            "text/plain": [
              "array([[2408,    2],\n",
              "       [7482,  680],\n",
              "       [6140, 2406],\n",
              "       [4328, 2655],\n",
              "       [4362, 2098]])"
            ]
          },
          "metadata": {
            "tags": []
          },
          "execution_count": 76
        }
      ]
    },
    {
      "cell_type": "code",
      "metadata": {
        "id": "jAp4AK6hpmhP",
        "colab_type": "code",
        "colab": {},
        "outputId": "de8c4f5a-dfc9-48ba-e7cf-a9f41611445d"
      },
      "source": [
        "# chi square test\n",
        "chi_squared, p_value, dof, expected = stats.chi2_contingency(observed)\n",
        "\n",
        "print(f\"Chi-Squared: {chi_squared}\")\n",
        "print(f\"P-value: {p_value}\")\n",
        "print(f\"Degrees of Freedom: {dof}\") \n",
        "print(\"Expected: \\n\", np.array(expected))"
      ],
      "execution_count": null,
      "outputs": [
        {
          "output_type": "stream",
          "text": [
            "Chi-Squared: 2935.441819762824\n",
            "P-value: 0.0\n",
            "Degrees of Freedom: 4\n",
            "Expected: \n",
            " [[1829.64896656  580.35103344]\n",
            " [6196.51239213 1965.48760787]\n",
            " [6488.04152207 2057.95847793]\n",
            " [5301.42686035 1681.57313965]\n",
            " [4904.3702589  1555.6297411 ]]\n"
          ],
          "name": "stdout"
        }
      ]
    },
    {
      "cell_type": "code",
      "metadata": {
        "id": "pG8Vm1copmhU",
        "colab_type": "code",
        "colab": {}
      },
      "source": [
        ""
      ],
      "execution_count": null,
      "outputs": []
    }
  ]
}